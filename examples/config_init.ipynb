{
 "cells": [
  {
   "cell_type": "code",
   "execution_count": 1,
   "metadata": {},
   "outputs": [],
   "source": [
    "from scidag import DAG"
   ]
  },
  {
   "cell_type": "code",
   "execution_count": 2,
   "metadata": {},
   "outputs": [
    {
     "name": "stdout",
     "output_type": "stream",
     "text": [
      "{'name': 'avg', 'content': {'fn': 'this'}, 'dependencies': {'inputs': [], 'outputs': []}}\n"
     ]
    }
   ],
   "source": [
    "from omegaconf import OmegaConf\n",
    "from dataclasses import dataclass\n",
    "from typing import Any\n",
    "\n",
    "@dataclass(slots=True)\n",
    "class TaskConfig:\n",
    "    name:str        \n",
    "    content:dict[str, Any]\n",
    "    dependencies:dict[str, Any]\n",
    "    \n",
    "tsk_cfg = TaskConfig(name=\"avg\", content={\"fn\": 'this'}, dependencies={\"inputs\":[], \"outputs\":[]}) \n",
    "    \n",
    "cfg = OmegaConf.structured(tsk_cfg)\n",
    "print(cfg)"
   ]
  },
  {
   "cell_type": "code",
   "execution_count": 3,
   "metadata": {},
   "outputs": [
    {
     "ename": "NameError",
     "evalue": "name 'build_tasks' is not defined",
     "output_type": "error",
     "traceback": [
      "\u001b[0;31m---------------------------------------------------------------------------\u001b[0m",
      "\u001b[0;31mTypeError\u001b[0m                                 Traceback (most recent call last)",
      "Cell \u001b[0;32mIn[3], line 1\u001b[0m\n\u001b[0;32m----> 1\u001b[0m dag \u001b[39m=\u001b[39m DAG()\n\u001b[1;32m      2\u001b[0m task \u001b[39m=\u001b[39m dag\u001b[39m.\u001b[39mget_task(\u001b[39m\"\u001b[39m\u001b[39mAveraging_1\u001b[39m\u001b[39m\"\u001b[39m)\n\u001b[1;32m      3\u001b[0m task\u001b[39m.\u001b[39mrun()\n",
      "\u001b[0;31mTypeError\u001b[0m: DAG.__init__() missing 1 required positional argument: 'cfg'"
     ]
    }
   ],
   "source": [
    "dag = DAG(cfg)\n",
    "dag.run()\n",
    "\n",
    "task = dag.get_task(\"Averaging_1\")\n",
    "task.run()"
   ]
  },
  {
   "cell_type": "code",
   "execution_count": null,
   "metadata": {},
   "outputs": [],
   "source": [
    "print(task.available_tasks)"
   ]
  }
 ],
 "metadata": {
  "kernelspec": {
   "display_name": "scidag-ryUc_W-U-py3.10",
   "language": "python",
   "name": "python3"
  },
  "language_info": {
   "codemirror_mode": {
    "name": "ipython",
    "version": 3
   },
   "file_extension": ".py",
   "mimetype": "text/x-python",
   "name": "python",
   "nbconvert_exporter": "python",
   "pygments_lexer": "ipython3",
   "version": "3.10.6 (main, Nov 14 2022, 16:10:14) [GCC 11.3.0]"
  },
  "orig_nbformat": 4,
  "vscode": {
   "interpreter": {
    "hash": "7b5e589ee74b5103b4cbc8877e59b4e9086806d980e16b930233b47046c4cd24"
   }
  }
 },
 "nbformat": 4,
 "nbformat_minor": 2
}
