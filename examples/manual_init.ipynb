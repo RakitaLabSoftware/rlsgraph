{
 "cells": [
  {
   "attachments": {},
   "cell_type": "markdown",
   "metadata": {},
   "source": [
    "# Imports"
   ]
  },
  {
   "cell_type": "code",
   "execution_count": 1,
   "metadata": {},
   "outputs": [],
   "source": [
    "from scidag.core.dag import DAG\n",
    "from scidag.core.node import Node\n",
    "\n",
    "dag = DAG()"
   ]
  },
  {
   "cell_type": "code",
   "execution_count": 2,
   "metadata": {},
   "outputs": [],
   "source": [
    "# generating random numbers for ...FIXME\n",
    "import random\n",
    "def generate_random(start:int=30, finish:int=40)->int:\n",
    "    print(\"generating\")\n",
    "    return random.randint(start, finish)\n",
    "\n",
    "node_a = Node(name =\"node_a\", content=generate_random)\n",
    "dag.add(node_a)"
   ]
  },
  {
   "attachments": {},
   "cell_type": "markdown",
   "metadata": {},
   "source": [
    "# FIXME write down philosophy "
   ]
  },
  {
   "cell_type": "code",
   "execution_count": 3,
   "metadata": {},
   "outputs": [],
   "source": [
    "import math\n",
    "# FIXME \n",
    "def fib(n:int)->int:\n",
    "    if n == 0:\n",
    "        return 0\n",
    "    elif n == 1 or n == 2:\n",
    "        return 1\n",
    "    else:\n",
    "        return fib(n-1) + fib(n-2)\n",
    "\n",
    "def fib_func(a:int)->int:\n",
    "    print(\"start fib\")\n",
    "    return fib(a) \n",
    "\n",
    "def square_func(a:int)->int:\n",
    "    print(\"squaring\")\n",
    "    return round(math.sqrt(a))\n",
    "\n",
    "# FIXME \n",
    "node_b1 = Node(\"node_b1\", fib_func)\n",
    "node_b2 = Node(\"node_b2\", square_func)\n",
    "\n",
    "# FIXME \n",
    "dag.add(node_b1)\n",
    "dag.add(node_b2)\n",
    "\n",
    "# FIXME \n",
    "dag.connect(\"node_a\", \"node_b1.a\")\n",
    "dag.connect(\"node_a\", \"node_b2.a\")"
   ]
  },
  {
   "cell_type": "code",
   "execution_count": 4,
   "metadata": {},
   "outputs": [],
   "source": [
    "# FIXME \n",
    "def sum_func(a:int, b:int)->int:\n",
    "    print(a+b)\n",
    "    return a + b\n",
    "\n",
    "node_c = Node(\"node_c\", sum_func)\n",
    "\n",
    "# FIXME \n",
    "dag.add(node_c)\n",
    "dag.connect(\"node_b1\", \"node_c.a\")\n",
    "dag.connect(\"node_b2\", \"node_c.b\")"
   ]
  },
  {
   "cell_type": "code",
   "execution_count": 5,
   "metadata": {},
   "outputs": [
    {
     "name": "stdout",
     "output_type": "stream",
     "text": [
      "foo.inputs=None foo.outputs=Variable(type=\"<class 'int'>\", value=None)\n"
     ]
    }
   ],
   "source": [
    "# FIXME \n",
    "foo  = dag.get_node(\"node_a\")\n",
    "print(f\"{foo.inputs=} {foo.outputs=}\")"
   ]
  },
  {
   "cell_type": "code",
   "execution_count": 6,
   "metadata": {},
   "outputs": [],
   "source": [
    "import hydra_zen as hz\n",
    "from omegaconf import OmegaConf\n",
    "cfg = dag.to_config()"
   ]
  },
  {
   "cell_type": "code",
   "execution_count": 7,
   "metadata": {},
   "outputs": [
    {
     "name": "stdout",
     "output_type": "stream",
     "text": [
      "info: ''\n",
      "dag:\n",
      "  node_a:\n",
      "    name: node_a\n",
      "    content:\n",
      "      _target_: __main__.generate_random\n",
      "      _partial_: true\n",
      "      start: 30\n",
      "      finish: 40\n",
      "    variables: null\n",
      "    edges:\n",
      "    - node_b1.a\n",
      "    - node_b2.a\n",
      "  node_b1:\n",
      "    name: node_b1\n",
      "    content:\n",
      "      _target_: __main__.fib_func\n",
      "      _partial_: true\n",
      "    variables:\n",
      "      a:\n",
      "        type: <class 'int'>\n",
      "        value: null\n",
      "    edges:\n",
      "    - node_c.a\n",
      "  node_b2:\n",
      "    name: node_b2\n",
      "    content:\n",
      "      _target_: __main__.square_func\n",
      "      _partial_: true\n",
      "    variables:\n",
      "      a:\n",
      "        type: <class 'int'>\n",
      "        value: null\n",
      "    edges:\n",
      "    - node_c.b\n",
      "  node_c:\n",
      "    name: node_c\n",
      "    content:\n",
      "      _target_: __main__.sum_func\n",
      "      _partial_: true\n",
      "    variables:\n",
      "      a:\n",
      "        type: <class 'int'>\n",
      "        value: null\n",
      "      b:\n",
      "        type: <class 'int'>\n",
      "        value: null\n",
      "    edges: []\n",
      "\n"
     ]
    }
   ],
   "source": [
    "print(OmegaConf.to_yaml(cfg))"
   ]
  },
  {
   "cell_type": "code",
   "execution_count": 8,
   "metadata": {},
   "outputs": [
    {
     "name": "stdout",
     "output_type": "stream",
     "text": [
      "generating\n",
      "start fib\n",
      "squaring\n",
      "2178315\n",
      "{'info': '', 'dag': {'node_a': {'name': 'node_a', 'content': {'_target_': '__main__.generate_random', '_partial_': True, 'start': 30, 'finish': 40}, 'variables': None, 'edges': ['node_b1.a', 'node_b2.a']}, 'node_b1': {'name': 'node_b1', 'content': {'_target_': '__main__.fib_func', '_partial_': True}, 'variables': {'a': {'type': \"<class 'int'>\", 'value': 32}}, 'edges': ['node_c.a']}, 'node_b2': {'name': 'node_b2', 'content': {'_target_': '__main__.square_func', '_partial_': True}, 'variables': {'a': {'type': \"<class 'int'>\", 'value': 32}}, 'edges': ['node_c.b']}, 'node_c': {'name': 'node_c', 'content': {'_target_': '__main__.sum_func', '_partial_': True}, 'variables': {'a': {'type': \"<class 'int'>\", 'value': 2178309}, 'b': {'type': \"<class 'int'>\", 'value': 6}}, 'edges': []}}}\n"
     ]
    }
   ],
   "source": [
    "# FIXME \n",
    "dag = DAG.from_config(cfg)\n",
    "dag.nb_run()\n",
    "dag.save()\n",
    "print(dag.to_config())"
   ]
  }
 ],
 "metadata": {
  "kernelspec": {
   "display_name": "scidag-ryUc_W-U-py3.11",
   "language": "python",
   "name": "python3"
  },
  "language_info": {
   "codemirror_mode": {
    "name": "ipython",
    "version": 3
   },
   "file_extension": ".py",
   "mimetype": "text/x-python",
   "name": "python",
   "nbconvert_exporter": "python",
   "pygments_lexer": "ipython3",
   "version": "3.11.1"
  },
  "orig_nbformat": 4,
  "vscode": {
   "interpreter": {
    "hash": "538423cf93e8590d1085d3d8bc96d2f8b210b6014a2f6052e961514a2337d641"
   }
  }
 },
 "nbformat": 4,
 "nbformat_minor": 2
}
