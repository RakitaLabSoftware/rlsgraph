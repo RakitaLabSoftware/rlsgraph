{
 "cells": [
  {
   "cell_type": "code",
   "execution_count": 1,
   "metadata": {},
   "outputs": [],
   "source": [
    "from scidag import DAG, Node\n",
    "import asyncio\n",
    "import nest_asyncio\n",
    "\n",
    "dag = DAG()"
   ]
  },
  {
   "cell_type": "code",
   "execution_count": 2,
   "metadata": {},
   "outputs": [],
   "source": [
    "import random\n",
    "def generate_random(start:int=10, finish:int=30)->int:\n",
    "    print(\"generating\")\n",
    "    return random.randint(start, finish)\n",
    "\n",
    "node_a = Node(name =\"node_a\", content=generate_random)\n",
    "dag.add(node_a)"
   ]
  },
  {
   "cell_type": "code",
   "execution_count": 3,
   "metadata": {},
   "outputs": [
    {
     "name": "stdout",
     "output_type": "stream",
     "text": [
      "<scidag.core.node.Node object at 0x7fa6eb20f390>\n"
     ]
    }
   ],
   "source": [
    "foo  = dag.get_node(\"node_a\")\n",
    "print(foo)"
   ]
  },
  {
   "cell_type": "code",
   "execution_count": 4,
   "metadata": {},
   "outputs": [],
   "source": [
    "import math\n",
    "\n",
    "def fib(n:int)->int:\n",
    "    # Check if input is 0 then it will\n",
    "    # print incorrect input\n",
    "    # Check if n is 0\n",
    "    # then it will return 0\n",
    "    if n == 0:\n",
    "        return 0\n",
    "    # Check if n is 1,2\n",
    "    # it will return 1\n",
    "    elif n == 1 or n == 2:\n",
    "        return 1\n",
    " \n",
    "    else:\n",
    "        return fib(n-1) + fib(n-2)\n",
    "\n",
    "def fib_func(n:int)->int:\n",
    "    print(\"start fib\")\n",
    "    return fib(n) \n",
    "\n",
    "def square_func(a:int)->int:\n",
    "    print(\"squaring\")\n",
    "    return round(math.sqrt(a))\n",
    "\n",
    "node_b1 = Node(\"node_b1\", fib_func)\n",
    "node_b2 = Node(\"node_b2\", square_func)\n",
    "\n",
    "dag.add(node_b1)\n",
    "dag.add(node_b2)\n",
    "dag.connect(\"node_a\", \"node_b1.n\")\n",
    "dag.connect(\"node_a\", \"node_b2.a\")"
   ]
  },
  {
   "cell_type": "code",
   "execution_count": 5,
   "metadata": {},
   "outputs": [],
   "source": [
    "def sum_func(a:int, b:int)->int:\n",
    "    print(a+b)\n",
    "    return a + b\n",
    "\n",
    "node_c = Node(\"node_c\", sum_func)\n",
    "\n",
    "dag.add(node_c)\n",
    "dag.connect(\"node_b1\", \"node_c.a\")\n",
    "dag.connect(\"node_b2\", \"node_c.b\")"
   ]
  },
  {
   "cell_type": "code",
   "execution_count": 6,
   "metadata": {},
   "outputs": [],
   "source": [
    "def launch_func(cfg):\n",
    "    nest_asyncio.apply()\n",
    "    loop = asyncio.get_event_loop()\n",
    "    loop.run_until_complete(dag.run())\n",
    "    print(dag.storage.df.head())"
   ]
  },
  {
   "cell_type": "code",
   "execution_count": 11,
   "metadata": {},
   "outputs": [],
   "source": [
    "import hydra_zen as hz\n",
    "from omegaconf import OmegaConf\n",
    "cfg = dag.to_config()"
   ]
  },
  {
   "cell_type": "code",
   "execution_count": 12,
   "metadata": {},
   "outputs": [
    {
     "name": "stdout",
     "output_type": "stream",
     "text": [
      "generating\n",
      "start fib\n",
      "squaring\n",
      "381\n",
      "    target variable   source value\n",
      "0  node_b1        n   node_a    14\n",
      "1  node_b2        a   node_a    14\n",
      "2   node_c        a  node_b1   377\n",
      "3   node_c        b  node_b2     4\n"
     ]
    },
    {
     "name": "stderr",
     "output_type": "stream",
     "text": [
      "/home/thinkpad/.cache/pypoetry/virtualenvs/scidag-ryUc_W-U-py3.11/lib/python3.11/site-packages/hydra_zen/_launch.py:236: UserWarning: \n",
      "The version_base parameter is not specified.\n",
      "Please specify a compatability version level, or None.\n",
      "Will assume defaults for version 1.1\n",
      "  with initialize(\n",
      "/home/thinkpad/.cache/pypoetry/virtualenvs/scidag-ryUc_W-U-py3.11/lib/python3.11/site-packages/hydra_zen/_launch.py:270: UserWarning: Future Hydra versions will no longer change working directory at job runtime by default.\n",
      "See https://hydra.cc/docs/1.2/upgrades/1.1_to_1.2/changes_to_job_working_dir/ for more information.\n",
      "  job = run_job(\n"
     ]
    },
    {
     "data": {
      "text/plain": [
       "JobReturn(overrides=[], cfg={'info': '', 'nodes': {'node_a': {'name': 'node_a', 'content': {'_target_': '__main__.generate_random', '_partial_': True, 'start': 10, 'finish': 30}, 'edges': ['node_b1.n', 'node_b2.a']}, 'node_b1': {'name': 'node_b1', 'content': {'_target_': '__main__.fib_func', '_partial_': True}, 'edges': ['node_c.a']}, 'node_b2': {'name': 'node_b2', 'content': {'_target_': '__main__.square_func', '_partial_': True}, 'edges': ['node_c.b']}, 'node_c': {'name': 'node_c', 'content': {'_target_': '__main__.sum_func', '_partial_': True}, 'edges': []}}}, hydra_cfg={'hydra': {'run': {'dir': 'outputs/${now:%Y-%m-%d}/${now:%H-%M-%S}'}, 'sweep': {'dir': 'multirun/${now:%Y-%m-%d}/${now:%H-%M-%S}', 'subdir': '${hydra.job.num}'}, 'launcher': {'_target_': 'hydra._internal.core_plugins.basic_launcher.BasicLauncher'}, 'sweeper': {'_target_': 'hydra._internal.core_plugins.basic_sweeper.BasicSweeper', 'max_batch_size': None, 'params': None}, 'help': {'app_name': '${hydra.job.name}', 'header': '${hydra.help.app_name} is powered by Hydra.\\n', 'footer': 'Powered by Hydra (https://hydra.cc)\\nUse --hydra-help to view Hydra specific help\\n', 'template': '${hydra.help.header}\\n== Configuration groups ==\\nCompose your configuration from those groups (group=option)\\n\\n$APP_CONFIG_GROUPS\\n\\n== Config ==\\nOverride anything in the config (foo.bar=value)\\n\\n$CONFIG\\n\\n${hydra.help.footer}\\n'}, 'hydra_help': {'template': \"Hydra (${hydra.runtime.version})\\nSee https://hydra.cc for more info.\\n\\n== Flags ==\\n$FLAGS_HELP\\n\\n== Configuration groups ==\\nCompose your configuration from those groups (For example, append hydra/job_logging=disabled to command line)\\n\\n$HYDRA_CONFIG_GROUPS\\n\\nUse '--cfg hydra' to Show the Hydra config.\\n\", 'hydra_help': '???'}, 'hydra_logging': {'version': 1, 'formatters': {'simple': {'format': '[%(asctime)s][HYDRA] %(message)s'}}, 'handlers': {'console': {'class': 'logging.StreamHandler', 'formatter': 'simple', 'stream': 'ext://sys.stdout'}}, 'root': {'level': 'INFO', 'handlers': ['console']}, 'loggers': {'logging_example': {'level': 'DEBUG'}}, 'disable_existing_loggers': False}, 'job_logging': {'version': 1, 'formatters': {'simple': {'format': '[%(asctime)s][%(name)s][%(levelname)s] - %(message)s'}}, 'handlers': {'console': {'class': 'logging.StreamHandler', 'formatter': 'simple', 'stream': 'ext://sys.stdout'}, 'file': {'class': 'logging.FileHandler', 'formatter': 'simple', 'filename': '${hydra.runtime.output_dir}/${hydra.job.name}.log'}}, 'root': {'level': 'INFO', 'handlers': ['console', 'file']}, 'disable_existing_loggers': False}, 'env': {}, 'mode': None, 'searchpath': [], 'callbacks': {}, 'output_subdir': '.hydra', 'overrides': {'hydra': [], 'task': []}, 'job': {'name': 'zen_launch', 'chdir': None, 'override_dirname': '', 'id': '???', 'num': '???', 'config_name': 'zen_launch', 'env_set': {}, 'env_copy': [], 'config': {'override_dirname': {'kv_sep': '=', 'item_sep': ',', 'exclude_keys': []}}}, 'runtime': {'version': '1.3.1', 'version_base': '1.1', 'cwd': '/home/thinkpad/projects/scidag/examples', 'config_sources': [{'path': 'hydra.conf', 'schema': 'pkg', 'provider': 'hydra'}, {'path': '', 'schema': 'structured', 'provider': 'schema'}], 'output_dir': '/home/thinkpad/projects/scidag/examples/outputs/2023-02-21/02-04-59', 'choices': {'hydra/env': 'default', 'hydra/callbacks': None, 'hydra/job_logging': 'default', 'hydra/hydra_logging': 'default', 'hydra/hydra_help': 'default', 'hydra/help': 'default', 'hydra/sweeper': 'basic', 'hydra/launcher': 'basic', 'hydra/output': 'default'}}, 'verbose': False}}, working_dir='outputs/2023-02-21/02-04-59', task_name='zen_launch', status=<JobStatus.COMPLETED: 1>, _return_value=None)"
      ]
     },
     "execution_count": 12,
     "metadata": {},
     "output_type": "execute_result"
    }
   ],
   "source": [
    "cfg = OmegaConf.structured(cfg)\n",
    "ret = hz.launch(cfg, launch_func)\n"
   ]
  },
  {
   "cell_type": "code",
   "execution_count": null,
   "metadata": {},
   "outputs": [],
   "source": []
  }
 ],
 "metadata": {
  "kernelspec": {
   "display_name": "scidag-ryUc_W-U-py3.11",
   "language": "python",
   "name": "python3"
  },
  "language_info": {
   "codemirror_mode": {
    "name": "ipython",
    "version": 3
   },
   "file_extension": ".py",
   "mimetype": "text/x-python",
   "name": "python",
   "nbconvert_exporter": "python",
   "pygments_lexer": "ipython3",
   "version": "3.11.1"
  },
  "orig_nbformat": 4,
  "vscode": {
   "interpreter": {
    "hash": "538423cf93e8590d1085d3d8bc96d2f8b210b6014a2f6052e961514a2337d641"
   }
  }
 },
 "nbformat": 4,
 "nbformat_minor": 2
}
