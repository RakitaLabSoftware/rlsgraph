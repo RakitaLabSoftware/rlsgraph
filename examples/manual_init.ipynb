{
 "cells": [
  {
   "cell_type": "code",
   "execution_count": 1,
   "metadata": {},
   "outputs": [],
   "source": [
    "from scidag import DAG, Node\n",
    "import nest_asyncio\n",
    "import asyncio\n",
    "\n",
    "dag = DAG()"
   ]
  },
  {
   "cell_type": "code",
   "execution_count": 2,
   "metadata": {},
   "outputs": [
    {
     "ename": "TypeError",
     "evalue": "DataStorage.__init__() missing 1 required positional argument: 'graph'",
     "output_type": "error",
     "traceback": [
      "\u001b[0;31m---------------------------------------------------------------------------\u001b[0m",
      "\u001b[0;31mTypeError\u001b[0m                                 Traceback (most recent call last)",
      "Cell \u001b[0;32mIn[2], line 5\u001b[0m\n\u001b[1;32m      2\u001b[0m \u001b[39mdef\u001b[39;00m \u001b[39mgenerate_random\u001b[39m(start:\u001b[39mint\u001b[39m\u001b[39m=\u001b[39m\u001b[39m0\u001b[39m, finish:\u001b[39mint\u001b[39m\u001b[39m=\u001b[39m\u001b[39m10\u001b[39m)\u001b[39m-\u001b[39m\u001b[39m>\u001b[39m\u001b[39mint\u001b[39m:\n\u001b[1;32m      3\u001b[0m     \u001b[39mreturn\u001b[39;00m random\u001b[39m.\u001b[39mrandint(start, finish)\n\u001b[0;32m----> 5\u001b[0m node_a \u001b[39m=\u001b[39m Node(name \u001b[39m=\u001b[39;49m\u001b[39m\"\u001b[39;49m\u001b[39mnode_a\u001b[39;49m\u001b[39m\"\u001b[39;49m, content\u001b[39m=\u001b[39;49mgenerate_random)\n\u001b[1;32m      6\u001b[0m dag\u001b[39m.\u001b[39madd(node_a)\n",
      "File \u001b[0;32m~/projects/scidag/scidag/core/node.py:35\u001b[0m, in \u001b[0;36mNode.__init__\u001b[0;34m(self, name, content)\u001b[0m\n\u001b[1;32m     33\u001b[0m \u001b[39mself\u001b[39m\u001b[39m.\u001b[39mcontent \u001b[39m=\u001b[39m content\n\u001b[1;32m     34\u001b[0m \u001b[39mself\u001b[39m\u001b[39m.\u001b[39mcfg \u001b[39m=\u001b[39m make_node_config(content)\n\u001b[0;32m---> 35\u001b[0m \u001b[39mself\u001b[39m\u001b[39m.\u001b[39mstorage \u001b[39m=\u001b[39m Data\u001b[39m.\u001b[39;49mfrom_config(\u001b[39mself\u001b[39;49m\u001b[39m.\u001b[39;49mcfg)\n",
      "File \u001b[0;32m~/projects/scidag/scidag/utils/storage.py:40\u001b[0m, in \u001b[0;36mData.from_config\u001b[0;34m(cls, cfg)\u001b[0m\n\u001b[1;32m     38\u001b[0m \u001b[39mfor\u001b[39;00m value_name, value_type \u001b[39min\u001b[39;00m cfg\u001b[39m.\u001b[39mvalues\u001b[39m.\u001b[39mitems():\n\u001b[1;32m     39\u001b[0m     values[value_name] \u001b[39m=\u001b[39m ValueStorage(value_name, value_type)\n\u001b[0;32m---> 40\u001b[0m \u001b[39mreturn\u001b[39;00m \u001b[39mcls\u001b[39;49m(values)\n",
      "File \u001b[0;32m<string>:4\u001b[0m, in \u001b[0;36m__init__\u001b[0;34m(self, values)\u001b[0m\n",
      "File \u001b[0;32m~/projects/scidag/scidag/utils/storage.py:27\u001b[0m, in \u001b[0;36mData.__post_init__\u001b[0;34m(self)\u001b[0m\n\u001b[1;32m     26\u001b[0m \u001b[39mdef\u001b[39;00m \u001b[39m__post_init__\u001b[39m(\u001b[39mself\u001b[39m):\n\u001b[0;32m---> 27\u001b[0m     \u001b[39mself\u001b[39m\u001b[39m.\u001b[39mstorage \u001b[39m=\u001b[39m DataStorage()\n",
      "\u001b[0;31mTypeError\u001b[0m: DataStorage.__init__() missing 1 required positional argument: 'graph'"
     ]
    }
   ],
   "source": [
    "import random\n",
    "def generate_random(start:int=0, finish:int=10)->int:\n",
    "    return random.randint(start, finish)\n",
    "\n",
    "node_a = Node(name =\"node_a\", content=generate_random)\n",
    "dag.add(node_a)"
   ]
  },
  {
   "cell_type": "code",
   "execution_count": null,
   "metadata": {},
   "outputs": [
    {
     "ename": "KeyError",
     "evalue": "'Node named foo is not present in this DAG. Try `dag.all_nodes` to see all available nodes'",
     "output_type": "error",
     "traceback": [
      "\u001b[0;31m---------------------------------------------------------------------------\u001b[0m",
      "\u001b[0;31mKeyError\u001b[0m                                  Traceback (most recent call last)",
      "Cell \u001b[0;32mIn[5], line 1\u001b[0m\n\u001b[0;32m----> 1\u001b[0m foo  \u001b[39m=\u001b[39m dag\u001b[39m.\u001b[39;49mget_node(\u001b[39m\"\u001b[39;49m\u001b[39mfoo\u001b[39;49m\u001b[39m\"\u001b[39;49m)\n\u001b[1;32m      2\u001b[0m \u001b[39mprint\u001b[39m(foo)\n",
      "File \u001b[0;32m~/projects/scidag/scidag/core/dag.py:73\u001b[0m, in \u001b[0;36mDAG.get_node\u001b[0;34m(self, node_name)\u001b[0m\n\u001b[1;32m     71\u001b[0m \u001b[39m\u001b[39m\u001b[39m\"\"\"Get Task by its name\"\"\"\u001b[39;00m\n\u001b[1;32m     72\u001b[0m \u001b[39mif\u001b[39;00m node_name \u001b[39mnot\u001b[39;00m \u001b[39min\u001b[39;00m \u001b[39mself\u001b[39m\u001b[39m.\u001b[39mnodes\u001b[39m.\u001b[39mkeys():\n\u001b[0;32m---> 73\u001b[0m     \u001b[39mraise\u001b[39;00m \u001b[39mKeyError\u001b[39;00m(\n\u001b[1;32m     74\u001b[0m         \u001b[39mf\u001b[39m\u001b[39m\"\u001b[39m\u001b[39mNode named \u001b[39m\u001b[39m{\u001b[39;00mnode_name\u001b[39m}\u001b[39;00m\u001b[39m is not present in this DAG. Try `dag.all_nodes` to see all available nodes\u001b[39m\u001b[39m\"\u001b[39m\n\u001b[1;32m     75\u001b[0m     )\n\u001b[1;32m     76\u001b[0m \u001b[39mreturn\u001b[39;00m \u001b[39mself\u001b[39m\u001b[39m.\u001b[39mnodes[node_name]\n",
      "\u001b[0;31mKeyError\u001b[0m: 'Node named foo is not present in this DAG. Try `dag.all_nodes` to see all available nodes'"
     ]
    }
   ],
   "source": [
    "foo  = dag.get_node(\"foo\")\n",
    "print(foo)"
   ]
  },
  {
   "cell_type": "code",
   "execution_count": null,
   "metadata": {},
   "outputs": [
    {
     "name": "stdout",
     "output_type": "stream",
     "text": [
      "CallableConfig(callable={'_target_': '__main__.pow_func', '_partial_': True}, values={'a': <class 'int'>})\n"
     ]
    },
    {
     "ename": "ValueError",
     "evalue": "not enough values to unpack (expected 2, got 1)",
     "output_type": "error",
     "traceback": [
      "\u001b[0;31m---------------------------------------------------------------------------\u001b[0m",
      "\u001b[0;31mValueError\u001b[0m                                Traceback (most recent call last)",
      "Cell \u001b[0;32mIn[3], line 9\u001b[0m\n\u001b[1;32m      6\u001b[0m \u001b[39mdef\u001b[39;00m \u001b[39msquare_func\u001b[39m(a:\u001b[39mint\u001b[39m)\u001b[39m-\u001b[39m\u001b[39m>\u001b[39m\u001b[39mint\u001b[39m:\n\u001b[1;32m      7\u001b[0m     \u001b[39mreturn\u001b[39;00m \u001b[39mround\u001b[39m(math\u001b[39m.\u001b[39msqrt(a))\n\u001b[0;32m----> 9\u001b[0m node_b1 \u001b[39m=\u001b[39m Node(\u001b[39m\"\u001b[39;49m\u001b[39mnode_b1\u001b[39;49m\u001b[39m\"\u001b[39;49m, pow_func)\n\u001b[1;32m     10\u001b[0m node_b2 \u001b[39m=\u001b[39m Node(\u001b[39m\"\u001b[39m\u001b[39mnode_b2\u001b[39m\u001b[39m\"\u001b[39m, square_func)\n\u001b[1;32m     12\u001b[0m dag\u001b[39m.\u001b[39madd(node_b1)\n",
      "File \u001b[0;32m~/projects/scidag/scidag/core/node.py:36\u001b[0m, in \u001b[0;36mNode.__init__\u001b[0;34m(self, name, content)\u001b[0m\n\u001b[1;32m     34\u001b[0m \u001b[39mself\u001b[39m\u001b[39m.\u001b[39mname \u001b[39m=\u001b[39m name\n\u001b[1;32m     35\u001b[0m \u001b[39mself\u001b[39m\u001b[39m.\u001b[39mcontent \u001b[39m=\u001b[39m content\n\u001b[0;32m---> 36\u001b[0m \u001b[39mself\u001b[39m\u001b[39m.\u001b[39mstorage \u001b[39m=\u001b[39m NodeStorage\u001b[39m.\u001b[39;49mfrom_config(cfg)\n",
      "File \u001b[0;32m~/projects/scidag/scidag/core/node.py:73\u001b[0m, in \u001b[0;36mNodeStorage.from_config\u001b[0;34m(cls, cfg)\u001b[0m\n\u001b[1;32m     70\u001b[0m \u001b[39mif\u001b[39;00m cfg\u001b[39m.\u001b[39mvalues \u001b[39mis\u001b[39;00m \u001b[39mNone\u001b[39;00m:\n\u001b[1;32m     71\u001b[0m     \u001b[39mreturn\u001b[39;00m \u001b[39mcls\u001b[39m(values)\n\u001b[0;32m---> 73\u001b[0m \u001b[39mfor\u001b[39;00m value_name, value_type \u001b[39min\u001b[39;00m cfg\u001b[39m.\u001b[39mvalues:\n\u001b[1;32m     74\u001b[0m     values[value_name] \u001b[39m=\u001b[39m ValueStorage(value_name, value_type)\n\u001b[1;32m     76\u001b[0m \u001b[39mreturn\u001b[39;00m \u001b[39mcls\u001b[39m(values)\n",
      "\u001b[0;31mValueError\u001b[0m: not enough values to unpack (expected 2, got 1)"
     ]
    }
   ],
   "source": [
    "import math\n",
    "\n",
    "def pow_func(a:int)->int:\n",
    "    return pow(a, 2)\n",
    "\n",
    "def square_func(a:int)->int:\n",
    "    return round(math.sqrt(a))\n",
    "\n",
    "node_b1 = Node(\"node_b1\", pow_func)\n",
    "node_b2 = Node(\"node_b2\", square_func)\n",
    "\n",
    "dag.add(node_b1)\n",
    "dag.add(node_b2)\n",
    "dag.connect(\"node_a\", \"node_b1.a\")\n",
    "dag.connect(\"node_a\", \"node_b2.a\")"
   ]
  },
  {
   "cell_type": "code",
   "execution_count": null,
   "metadata": {},
   "outputs": [
    {
     "name": "stdout",
     "output_type": "stream",
     "text": [
      "CallableConfig(callable={'_target_': '__main__.sum_func', '_partial_': True}, values={})\n"
     ]
    },
    {
     "ename": "AttributeError",
     "evalue": "'NodeStorage' object has no attribute 'data'",
     "output_type": "error",
     "traceback": [
      "\u001b[0;31m---------------------------------------------------------------------------\u001b[0m",
      "\u001b[0;31mAttributeError\u001b[0m                            Traceback (most recent call last)",
      "Cell \u001b[0;32mIn[3], line 4\u001b[0m\n\u001b[1;32m      1\u001b[0m \u001b[39mdef\u001b[39;00m \u001b[39msum_func\u001b[39m(a:\u001b[39mint\u001b[39m, b:\u001b[39mint\u001b[39m):\n\u001b[1;32m      2\u001b[0m     \u001b[39mreturn\u001b[39;00m a \u001b[39m+\u001b[39m b\n\u001b[0;32m----> 4\u001b[0m node_c \u001b[39m=\u001b[39m Node(\u001b[39m\"\u001b[39;49m\u001b[39mnode_c\u001b[39;49m\u001b[39m\"\u001b[39;49m, sum_func)\n\u001b[1;32m      6\u001b[0m dag\u001b[39m.\u001b[39madd(node_c)\n\u001b[1;32m      7\u001b[0m dag\u001b[39m.\u001b[39mconnect(\u001b[39m\"\u001b[39m\u001b[39mnode_b1\u001b[39m\u001b[39m\"\u001b[39m, \u001b[39m\"\u001b[39m\u001b[39mnode_c.a\u001b[39m\u001b[39m\"\u001b[39m)\n",
      "File \u001b[0;32m~/projects/scidag/scidag/core/node.py:36\u001b[0m, in \u001b[0;36mNode.__init__\u001b[0;34m(self, name, content)\u001b[0m\n\u001b[1;32m     34\u001b[0m \u001b[39mself\u001b[39m\u001b[39m.\u001b[39mname \u001b[39m=\u001b[39m name\n\u001b[1;32m     35\u001b[0m \u001b[39mself\u001b[39m\u001b[39m.\u001b[39mcontent \u001b[39m=\u001b[39m content\n\u001b[0;32m---> 36\u001b[0m \u001b[39mself\u001b[39m\u001b[39m.\u001b[39mstorage \u001b[39m=\u001b[39m NodeStorage\u001b[39m.\u001b[39;49mfrom_config(cfg)\n",
      "File \u001b[0;32m~/projects/scidag/scidag/core/node.py:76\u001b[0m, in \u001b[0;36mNodeStorage.from_config\u001b[0;34m(cls, cfg)\u001b[0m\n\u001b[1;32m     73\u001b[0m \u001b[39mfor\u001b[39;00m value_name, value_type \u001b[39min\u001b[39;00m cfg\u001b[39m.\u001b[39mvalues:\n\u001b[1;32m     74\u001b[0m     values[value_name] \u001b[39m=\u001b[39m ValueStorage(value_name, value_type)\n\u001b[0;32m---> 76\u001b[0m \u001b[39mreturn\u001b[39;00m \u001b[39mcls\u001b[39;49m(values)\n",
      "File \u001b[0;32m<string>:4\u001b[0m, in \u001b[0;36m__init__\u001b[0;34m(self, values)\u001b[0m\n",
      "File \u001b[0;32m~/projects/scidag/scidag/core/node.py:79\u001b[0m, in \u001b[0;36mNodeStorage.__post_init__\u001b[0;34m(self)\u001b[0m\n\u001b[1;32m     78\u001b[0m \u001b[39mdef\u001b[39;00m \u001b[39m__post_init__\u001b[39m(\u001b[39mself\u001b[39m) \u001b[39m-\u001b[39m\u001b[39m>\u001b[39m \u001b[39mNone\u001b[39;00m:\n\u001b[0;32m---> 79\u001b[0m     \u001b[39mself\u001b[39m\u001b[39m.\u001b[39mdata \u001b[39m=\u001b[39m \u001b[39mself\u001b[39;49m\u001b[39m.\u001b[39;49mdata \u001b[39mor\u001b[39;00m {}\n\u001b[1;32m     80\u001b[0m     \u001b[39mif\u001b[39;00m \u001b[39mself\u001b[39m\u001b[39m.\u001b[39mwaiting \u001b[39mis\u001b[39;00m \u001b[39mNone\u001b[39;00m:\n\u001b[1;32m     81\u001b[0m         \u001b[39mself\u001b[39m\u001b[39m.\u001b[39mwaiting \u001b[39m=\u001b[39m {}\n",
      "\u001b[0;31mAttributeError\u001b[0m: 'NodeStorage' object has no attribute 'data'"
     ]
    }
   ],
   "source": [
    "def sum_func(a:int, b:int):\n",
    "    return a + b\n",
    "\n",
    "node_c = Node(\"node_c\", sum_func)\n",
    "\n",
    "dag.add(node_c)\n",
    "dag.connect(\"node_b1\", \"node_c.a\")\n",
    "dag.connect(\"node_b1\", \"node_c.b\")"
   ]
  },
  {
   "cell_type": "code",
   "execution_count": null,
   "metadata": {},
   "outputs": [
    {
     "name": "stdout",
     "output_type": "stream",
     "text": [
      "MultiDiGraph with 0 nodes and 0 edges\n"
     ]
    }
   ],
   "source": [
    "print(dag.graph)\n",
    "nest_asyncio.apply()\n",
    "loop = asyncio.get_event_loop()\n",
    "loop.run_until_complete(dag.run())"
   ]
  }
 ],
 "metadata": {
  "kernelspec": {
   "display_name": "scidag-ryUc_W-U-py3.11",
   "language": "python",
   "name": "python3"
  },
  "language_info": {
   "codemirror_mode": {
    "name": "ipython",
    "version": 3
   },
   "file_extension": ".py",
   "mimetype": "text/x-python",
   "name": "python",
   "nbconvert_exporter": "python",
   "pygments_lexer": "ipython3",
   "version": "3.11.1"
  },
  "orig_nbformat": 4,
  "vscode": {
   "interpreter": {
    "hash": "538423cf93e8590d1085d3d8bc96d2f8b210b6014a2f6052e961514a2337d641"
   }
  }
 },
 "nbformat": 4,
 "nbformat_minor": 2
}
