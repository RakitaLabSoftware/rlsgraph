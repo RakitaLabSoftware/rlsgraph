{
 "cells": [
  {
   "attachments": {},
   "cell_type": "markdown",
   "metadata": {},
   "source": [
    "# Imports"
   ]
  },
  {
   "cell_type": "code",
   "execution_count": 1,
   "metadata": {},
   "outputs": [],
   "source": [
    "from scidag import DAG, StartNode, Node\n",
    "from omegaconf import OmegaConf\n",
    "dag = DAG()"
   ]
  },
  {
   "cell_type": "markdown",
   "metadata": {},
   "source": [
    "# CREATING SOME FUNCTIONS"
   ]
  },
  {
   "cell_type": "code",
   "execution_count": 2,
   "metadata": {},
   "outputs": [],
   "source": [
    "import numpy as np\n",
    "\n",
    "def make_data():\n",
    "    return np.ones((10,10))\n",
    "\n",
    "def tan(x):\n",
    "    return x*2\n",
    "\n",
    "def cos(x):\n",
    "    return x/2\n",
    "\n",
    "def pow(a, b):\n",
    "    return a+b"
   ]
  },
  {
   "cell_type": "code",
   "execution_count": 3,
   "metadata": {},
   "outputs": [],
   "source": [
    "dag.add(StartNode(\"node_a\", make_data))\n",
    "dag.add(Node(\"node_b\", tan))\n",
    "dag.add(Node(\"node_c\", cos))\n",
    "dag.add(Node(\"node_d\", pow))\n",
    "\n",
    "# FIXME\n",
    "dag.connect(\"node_a\", \"node_b\", \"x\")\n",
    "dag.connect(\"node_a\", \"node_c\",\"x\")\n",
    "dag.connect(\"node_b\", \"node_d\", \"a\")\n",
    "dag.connect(\"node_c\", \"node_d\", \"b\")"
   ]
  },
  {
   "cell_type": "code",
   "execution_count": 4,
   "metadata": {},
   "outputs": [
    {
     "ename": "ConfigAttributeError",
     "evalue": "ListConfig does not support attribute access\n    full_key: [pretty]\n    object_type=list",
     "output_type": "error",
     "traceback": [
      "\u001b[0;31m---------------------------------------------------------------------------\u001b[0m",
      "\u001b[0;31mConfigAttributeError\u001b[0m                      Traceback (most recent call last)",
      "Cell \u001b[0;32mIn[4], line 4\u001b[0m\n\u001b[1;32m      2\u001b[0m cfg \u001b[39m=\u001b[39m dag\u001b[39m.\u001b[39mto_config()\n\u001b[1;32m      3\u001b[0m dag \u001b[39m=\u001b[39m DAG\u001b[39m.\u001b[39mfrom_config(cfg)\n\u001b[0;32m----> 4\u001b[0m dag\u001b[39m.\u001b[39;49mrun()\n",
      "File \u001b[0;32m~/projects/scidag/scidag/core/graph/dag.py:124\u001b[0m, in \u001b[0;36mDAG.run\u001b[0;34m(self, start)\u001b[0m\n\u001b[1;32m    122\u001b[0m     nest_asyncio\u001b[39m.\u001b[39mapply()\n\u001b[1;32m    123\u001b[0m loop \u001b[39m=\u001b[39m asyncio\u001b[39m.\u001b[39mget_event_loop()\n\u001b[0;32m--> 124\u001b[0m loop\u001b[39m.\u001b[39;49mrun_until_complete(\u001b[39mself\u001b[39;49m(start))\n",
      "File \u001b[0;32m~/.cache/pypoetry/virtualenvs/scidag-ryUc_W-U-py3.11/lib/python3.11/site-packages/nest_asyncio.py:90\u001b[0m, in \u001b[0;36m_patch_loop.<locals>.run_until_complete\u001b[0;34m(self, future)\u001b[0m\n\u001b[1;32m     87\u001b[0m \u001b[39mif\u001b[39;00m \u001b[39mnot\u001b[39;00m f\u001b[39m.\u001b[39mdone():\n\u001b[1;32m     88\u001b[0m     \u001b[39mraise\u001b[39;00m \u001b[39mRuntimeError\u001b[39;00m(\n\u001b[1;32m     89\u001b[0m         \u001b[39m'\u001b[39m\u001b[39mEvent loop stopped before Future completed.\u001b[39m\u001b[39m'\u001b[39m)\n\u001b[0;32m---> 90\u001b[0m \u001b[39mreturn\u001b[39;00m f\u001b[39m.\u001b[39;49mresult()\n",
      "File \u001b[0;32m~/.pyenv/versions/3.11.1/lib/python3.11/asyncio/futures.py:203\u001b[0m, in \u001b[0;36mFuture.result\u001b[0;34m(self)\u001b[0m\n\u001b[1;32m    201\u001b[0m \u001b[39mself\u001b[39m\u001b[39m.\u001b[39m__log_traceback \u001b[39m=\u001b[39m \u001b[39mFalse\u001b[39;00m\n\u001b[1;32m    202\u001b[0m \u001b[39mif\u001b[39;00m \u001b[39mself\u001b[39m\u001b[39m.\u001b[39m_exception \u001b[39mis\u001b[39;00m \u001b[39mnot\u001b[39;00m \u001b[39mNone\u001b[39;00m:\n\u001b[0;32m--> 203\u001b[0m     \u001b[39mraise\u001b[39;00m \u001b[39mself\u001b[39m\u001b[39m.\u001b[39m_exception\u001b[39m.\u001b[39mwith_traceback(\u001b[39mself\u001b[39m\u001b[39m.\u001b[39m_exception_tb)\n\u001b[1;32m    204\u001b[0m \u001b[39mreturn\u001b[39;00m \u001b[39mself\u001b[39m\u001b[39m.\u001b[39m_result\n",
      "File \u001b[0;32m~/.pyenv/versions/3.11.1/lib/python3.11/asyncio/tasks.py:267\u001b[0m, in \u001b[0;36mTask.__step\u001b[0;34m(***failed resolving arguments***)\u001b[0m\n\u001b[1;32m    263\u001b[0m \u001b[39mtry\u001b[39;00m:\n\u001b[1;32m    264\u001b[0m     \u001b[39mif\u001b[39;00m exc \u001b[39mis\u001b[39;00m \u001b[39mNone\u001b[39;00m:\n\u001b[1;32m    265\u001b[0m         \u001b[39m# We use the `send` method directly, because coroutines\u001b[39;00m\n\u001b[1;32m    266\u001b[0m         \u001b[39m# don't have `__iter__` and `__next__` methods.\u001b[39;00m\n\u001b[0;32m--> 267\u001b[0m         result \u001b[39m=\u001b[39m coro\u001b[39m.\u001b[39;49msend(\u001b[39mNone\u001b[39;49;00m)\n\u001b[1;32m    268\u001b[0m     \u001b[39melse\u001b[39;00m:\n\u001b[1;32m    269\u001b[0m         result \u001b[39m=\u001b[39m coro\u001b[39m.\u001b[39mthrow(exc)\n",
      "File \u001b[0;32m~/projects/scidag/scidag/core/graph/dag.py:135\u001b[0m, in \u001b[0;36mDAG.__call__\u001b[0;34m(self, start)\u001b[0m\n\u001b[1;32m    133\u001b[0m     \u001b[39mraise\u001b[39;00m\n\u001b[1;32m    134\u001b[0m \u001b[39mfinally\u001b[39;00m:\n\u001b[0;32m--> 135\u001b[0m     \u001b[39mself\u001b[39;49m\u001b[39m.\u001b[39;49msave()\n",
      "File \u001b[0;32m~/projects/scidag/scidag/core/graph/dag.py:144\u001b[0m, in \u001b[0;36mDAG.save\u001b[0;34m(self)\u001b[0m\n\u001b[1;32m    142\u001b[0m \u001b[39mdef\u001b[39;00m \u001b[39msave\u001b[39m(\u001b[39mself\u001b[39m) \u001b[39m-\u001b[39m\u001b[39m>\u001b[39m \u001b[39mNone\u001b[39;00m:\n\u001b[1;32m    143\u001b[0m     OmegaConf\u001b[39m.\u001b[39msave(\n\u001b[0;32m--> 144\u001b[0m         \u001b[39mself\u001b[39;49m\u001b[39m.\u001b[39;49mto_config(), os\u001b[39m.\u001b[39mpath\u001b[39m.\u001b[39mjoin(\u001b[39mself\u001b[39m\u001b[39m.\u001b[39mpath_dir, \u001b[39m\"\u001b[39m\u001b[39mconfig.yaml\u001b[39m\u001b[39m\"\u001b[39m), resolve\u001b[39m=\u001b[39m\u001b[39mTrue\u001b[39;00m\n\u001b[1;32m    145\u001b[0m     )\n\u001b[1;32m    146\u001b[0m     \u001b[39mself\u001b[39m\u001b[39m.\u001b[39mstorage\u001b[39m.\u001b[39msave()\n",
      "File \u001b[0;32m~/projects/scidag/scidag/core/graph/dag.py:48\u001b[0m, in \u001b[0;36mDAG.to_config\u001b[0;34m(self)\u001b[0m\n\u001b[1;32m     47\u001b[0m \u001b[39mdef\u001b[39;00m \u001b[39mto_config\u001b[39m(\u001b[39mself\u001b[39m) \u001b[39m-\u001b[39m\u001b[39m>\u001b[39m DagConfig:\n\u001b[0;32m---> 48\u001b[0m     \u001b[39mreturn\u001b[39;00m OmegaConf\u001b[39m.\u001b[39mstructured(make_dag_config(\u001b[39mself\u001b[39;49m))\n",
      "File \u001b[0;32m~/projects/scidag/scidag/utils/configurable.py:97\u001b[0m, in \u001b[0;36mmake_dag_config\u001b[0;34m(obj)\u001b[0m\n\u001b[1;32m     95\u001b[0m \u001b[39m# FIXME: Bad naming for node pairs\u001b[39;00m\n\u001b[1;32m     96\u001b[0m \u001b[39mfor\u001b[39;00m node_name, node \u001b[39min\u001b[39;00m obj\u001b[39m.\u001b[39mnodes\u001b[39m.\u001b[39mnodes\u001b[39m.\u001b[39mitems():\n\u001b[0;32m---> 97\u001b[0m     node_cfg \u001b[39m=\u001b[39m make_node_config(node)\n\u001b[1;32m     98\u001b[0m     node_cfg\u001b[39m.\u001b[39medges \u001b[39m=\u001b[39m obj\u001b[39m.\u001b[39mall_edges[node_name]\n\u001b[1;32m     99\u001b[0m     cfg\u001b[39m.\u001b[39mdag[node_name] \u001b[39m=\u001b[39m node_cfg\n",
      "File \u001b[0;32m~/projects/scidag/scidag/utils/configurable.py:88\u001b[0m, in \u001b[0;36mmake_node_config\u001b[0;34m(node)\u001b[0m\n\u001b[1;32m     86\u001b[0m cfg \u001b[39m=\u001b[39m OmegaConf\u001b[39m.\u001b[39mstructured(obj_cfg)\n\u001b[1;32m     87\u001b[0m \u001b[39m# append  to node_sig\u001b[39;00m\n\u001b[0;32m---> 88\u001b[0m variables \u001b[39m=\u001b[39m make_variables_config(node\u001b[39m.\u001b[39;49minputs)\n\u001b[1;32m     89\u001b[0m \u001b[39mreturn\u001b[39;00m NodeConfig(name, cfg, variables)\n",
      "File \u001b[0;32m~/projects/scidag/scidag/utils/configurable.py:27\u001b[0m, in \u001b[0;36mmake_variables_config\u001b[0;34m(variables)\u001b[0m\n\u001b[1;32m     25\u001b[0m     \u001b[39mif\u001b[39;00m \u001b[39misinstance\u001b[39m(value, np\u001b[39m.\u001b[39mndarray):\n\u001b[1;32m     26\u001b[0m         value \u001b[39m=\u001b[39m ListConfig(value\u001b[39m.\u001b[39mtolist())\n\u001b[0;32m---> 27\u001b[0m         value\u001b[39m.\u001b[39;49mpretty(multiline\u001b[39m=\u001b[39m\u001b[39mFalse\u001b[39;00m)\n\u001b[1;32m     28\u001b[0m     variable_dict[name] \u001b[39m=\u001b[39m VariableConfig(variable\u001b[39m.\u001b[39mtype, value)\n\u001b[1;32m     29\u001b[0m \u001b[39mreturn\u001b[39;00m variable_dict\n",
      "File \u001b[0;32m~/.cache/pypoetry/virtualenvs/scidag-ryUc_W-U-py3.11/lib/python3.11/site-packages/omegaconf/listconfig.py:181\u001b[0m, in \u001b[0;36mListConfig.__getattr__\u001b[0;34m(self, key)\u001b[0m\n\u001b[1;32m    179\u001b[0m     \u001b[39mreturn\u001b[39;00m \u001b[39mself\u001b[39m\u001b[39m.\u001b[39m\u001b[39m__getitem__\u001b[39m(\u001b[39mint\u001b[39m(key))\n\u001b[1;32m    180\u001b[0m \u001b[39melse\u001b[39;00m:\n\u001b[0;32m--> 181\u001b[0m     \u001b[39mself\u001b[39;49m\u001b[39m.\u001b[39;49m_format_and_raise(\n\u001b[1;32m    182\u001b[0m         key\u001b[39m=\u001b[39;49mkey,\n\u001b[1;32m    183\u001b[0m         value\u001b[39m=\u001b[39;49m\u001b[39mNone\u001b[39;49;00m,\n\u001b[1;32m    184\u001b[0m         cause\u001b[39m=\u001b[39;49mConfigAttributeError(\n\u001b[1;32m    185\u001b[0m             \u001b[39m\"\u001b[39;49m\u001b[39mListConfig does not support attribute access\u001b[39;49m\u001b[39m\"\u001b[39;49m\n\u001b[1;32m    186\u001b[0m         ),\n\u001b[1;32m    187\u001b[0m     )\n",
      "File \u001b[0;32m~/.cache/pypoetry/virtualenvs/scidag-ryUc_W-U-py3.11/lib/python3.11/site-packages/omegaconf/base.py:231\u001b[0m, in \u001b[0;36mNode._format_and_raise\u001b[0;34m(self, key, value, cause, msg, type_override)\u001b[0m\n\u001b[1;32m    223\u001b[0m \u001b[39mdef\u001b[39;00m \u001b[39m_format_and_raise\u001b[39m(\n\u001b[1;32m    224\u001b[0m     \u001b[39mself\u001b[39m,\n\u001b[1;32m    225\u001b[0m     key: Any,\n\u001b[0;32m   (...)\u001b[0m\n\u001b[1;32m    229\u001b[0m     type_override: Any \u001b[39m=\u001b[39m \u001b[39mNone\u001b[39;00m,\n\u001b[1;32m    230\u001b[0m ) \u001b[39m-\u001b[39m\u001b[39m>\u001b[39m \u001b[39mNone\u001b[39;00m:\n\u001b[0;32m--> 231\u001b[0m     format_and_raise(\n\u001b[1;32m    232\u001b[0m         node\u001b[39m=\u001b[39;49m\u001b[39mself\u001b[39;49m,\n\u001b[1;32m    233\u001b[0m         key\u001b[39m=\u001b[39;49mkey,\n\u001b[1;32m    234\u001b[0m         value\u001b[39m=\u001b[39;49mvalue,\n\u001b[1;32m    235\u001b[0m         msg\u001b[39m=\u001b[39;49m\u001b[39mstr\u001b[39;49m(cause) \u001b[39mif\u001b[39;49;00m msg \u001b[39mis\u001b[39;49;00m \u001b[39mNone\u001b[39;49;00m \u001b[39melse\u001b[39;49;00m msg,\n\u001b[1;32m    236\u001b[0m         cause\u001b[39m=\u001b[39;49mcause,\n\u001b[1;32m    237\u001b[0m         type_override\u001b[39m=\u001b[39;49mtype_override,\n\u001b[1;32m    238\u001b[0m     )\n\u001b[1;32m    239\u001b[0m     \u001b[39massert\u001b[39;00m \u001b[39mFalse\u001b[39;00m\n",
      "File \u001b[0;32m~/.cache/pypoetry/virtualenvs/scidag-ryUc_W-U-py3.11/lib/python3.11/site-packages/omegaconf/_utils.py:899\u001b[0m, in \u001b[0;36mformat_and_raise\u001b[0;34m(node, key, value, msg, cause, type_override)\u001b[0m\n\u001b[1;32m    896\u001b[0m     ex\u001b[39m.\u001b[39mref_type \u001b[39m=\u001b[39m ref_type\n\u001b[1;32m    897\u001b[0m     ex\u001b[39m.\u001b[39mref_type_str \u001b[39m=\u001b[39m ref_type_str\n\u001b[0;32m--> 899\u001b[0m _raise(ex, cause)\n",
      "File \u001b[0;32m~/.cache/pypoetry/virtualenvs/scidag-ryUc_W-U-py3.11/lib/python3.11/site-packages/omegaconf/_utils.py:797\u001b[0m, in \u001b[0;36m_raise\u001b[0;34m(ex, cause)\u001b[0m\n\u001b[1;32m    795\u001b[0m \u001b[39melse\u001b[39;00m:\n\u001b[1;32m    796\u001b[0m     ex\u001b[39m.\u001b[39m__cause__ \u001b[39m=\u001b[39m \u001b[39mNone\u001b[39;00m\n\u001b[0;32m--> 797\u001b[0m \u001b[39mraise\u001b[39;00m ex\u001b[39m.\u001b[39mwith_traceback(sys\u001b[39m.\u001b[39mexc_info()[\u001b[39m2\u001b[39m])\n",
      "\u001b[0;31mConfigAttributeError\u001b[0m: ListConfig does not support attribute access\n    full_key: [pretty]\n    object_type=list"
     ]
    }
   ],
   "source": [
    "# FIXME \n",
    "cfg = dag.to_config()\n",
    "dag = DAG.from_config(cfg)\n",
    "dag.run()"
   ]
  },
  {
   "cell_type": "code",
   "execution_count": null,
   "metadata": {},
   "outputs": [
    {
     "data": {
      "text/html": [
       "<div>\n",
       "<style scoped>\n",
       "    .dataframe tbody tr th:only-of-type {\n",
       "        vertical-align: middle;\n",
       "    }\n",
       "\n",
       "    .dataframe tbody tr th {\n",
       "        vertical-align: top;\n",
       "    }\n",
       "\n",
       "    .dataframe thead th {\n",
       "        text-align: right;\n",
       "    }\n",
       "</style>\n",
       "<table border=\"1\" class=\"dataframe\">\n",
       "  <thead>\n",
       "    <tr style=\"text-align: right;\">\n",
       "      <th></th>\n",
       "      <th>target</th>\n",
       "      <th>variable</th>\n",
       "      <th>source</th>\n",
       "      <th>value</th>\n",
       "    </tr>\n",
       "  </thead>\n",
       "  <tbody>\n",
       "    <tr>\n",
       "      <th>0</th>\n",
       "      <td>node_b</td>\n",
       "      <td>x</td>\n",
       "      <td>node_a</td>\n",
       "      <td>[[1.0, 1.0, 1.0, 1.0, 1.0, 1.0, 1.0, 1.0, 1.0,...</td>\n",
       "    </tr>\n",
       "    <tr>\n",
       "      <th>1</th>\n",
       "      <td>node_c</td>\n",
       "      <td>x</td>\n",
       "      <td>node_a</td>\n",
       "      <td>[[1.0, 1.0, 1.0, 1.0, 1.0, 1.0, 1.0, 1.0, 1.0,...</td>\n",
       "    </tr>\n",
       "    <tr>\n",
       "      <th>2</th>\n",
       "      <td>node_d</td>\n",
       "      <td>a</td>\n",
       "      <td>node_b</td>\n",
       "      <td>[[2.0, 2.0, 2.0, 2.0, 2.0, 2.0, 2.0, 2.0, 2.0,...</td>\n",
       "    </tr>\n",
       "    <tr>\n",
       "      <th>3</th>\n",
       "      <td>node_d</td>\n",
       "      <td>b</td>\n",
       "      <td>node_c</td>\n",
       "      <td>[[0.5, 0.5, 0.5, 0.5, 0.5, 0.5, 0.5, 0.5, 0.5,...</td>\n",
       "    </tr>\n",
       "  </tbody>\n",
       "</table>\n",
       "</div>"
      ],
      "text/plain": [
       "   target variable  source                                              value\n",
       "0  node_b        x  node_a  [[1.0, 1.0, 1.0, 1.0, 1.0, 1.0, 1.0, 1.0, 1.0,...\n",
       "1  node_c        x  node_a  [[1.0, 1.0, 1.0, 1.0, 1.0, 1.0, 1.0, 1.0, 1.0,...\n",
       "2  node_d        a  node_b  [[2.0, 2.0, 2.0, 2.0, 2.0, 2.0, 2.0, 2.0, 2.0,...\n",
       "3  node_d        b  node_c  [[0.5, 0.5, 0.5, 0.5, 0.5, 0.5, 0.5, 0.5, 0.5,..."
      ]
     },
     "execution_count": 5,
     "metadata": {},
     "output_type": "execute_result"
    }
   ],
   "source": [
    "dag.storage.show()"
   ]
  },
  {
   "cell_type": "code",
   "execution_count": null,
   "metadata": {},
   "outputs": [
    {
     "ename": "TypeError",
     "evalue": "OmegaConf.to_yaml() got an unexpected keyword argument 'line_width'",
     "output_type": "error",
     "traceback": [
      "\u001b[0;31m---------------------------------------------------------------------------\u001b[0m",
      "\u001b[0;31mTypeError\u001b[0m                                 Traceback (most recent call last)",
      "Cell \u001b[0;32mIn[7], line 1\u001b[0m\n\u001b[0;32m----> 1\u001b[0m \u001b[39mprint\u001b[39m(OmegaConf\u001b[39m.\u001b[39;49mto_yaml(dag\u001b[39m.\u001b[39;49mto_config(), line_width\u001b[39m=\u001b[39;49m\u001b[39m80\u001b[39;49m))\n",
      "\u001b[0;31mTypeError\u001b[0m: OmegaConf.to_yaml() got an unexpected keyword argument 'line_width'"
     ]
    }
   ],
   "source": [
    "print(OmegaConf.to_yaml(dag.to_config()))"
   ]
  },
  {
   "cell_type": "code",
   "execution_count": null,
   "metadata": {},
   "outputs": [],
   "source": []
  }
 ],
 "metadata": {
  "kernelspec": {
   "display_name": "scidag-ryUc_W-U-py3.11",
   "language": "python",
   "name": "python3"
  },
  "language_info": {
   "codemirror_mode": {
    "name": "ipython",
    "version": 3
   },
   "file_extension": ".py",
   "mimetype": "text/x-python",
   "name": "python",
   "nbconvert_exporter": "python",
   "pygments_lexer": "ipython3",
   "version": "3.11.1"
  },
  "orig_nbformat": 4,
  "vscode": {
   "interpreter": {
    "hash": "538423cf93e8590d1085d3d8bc96d2f8b210b6014a2f6052e961514a2337d641"
   }
  }
 },
 "nbformat": 4,
 "nbformat_minor": 2
}
