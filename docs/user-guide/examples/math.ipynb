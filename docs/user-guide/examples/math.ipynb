{
 "cells": [
  {
   "attachments": {},
   "cell_type": "markdown",
   "metadata": {},
   "source": [
    "# Imports"
   ]
  },
  {
   "cell_type": "code",
   "execution_count": 57,
   "metadata": {},
   "outputs": [],
   "source": [
    "from scidag import DAG, StartNode, Node\n",
    "from omegaconf import OmegaConf\n",
    "dag = DAG()"
   ]
  },
  {
   "cell_type": "markdown",
   "metadata": {},
   "source": [
    "# CREATING SOME FUNCTIONS"
   ]
  },
  {
   "attachments": {},
   "cell_type": "markdown",
   "metadata": {},
   "source": [
    "# FIXME write down philosophy "
   ]
  },
  {
   "cell_type": "code",
   "execution_count": 58,
   "metadata": {},
   "outputs": [],
   "source": [
    "# FIXME \n",
    "import math\n",
    "\n",
    "def my_sum(x, y) -> float:\n",
    "    return x + y\n",
    "\n",
    "def tan(x) -> float:\n",
    "    return math.tan(x)\n",
    "\n",
    "class TestClass:\n",
    "    def __init__(self, test=10) -> None:\n",
    "        pass\n",
    "\n",
    "def cos(x, b = TestClass()) -> float:\n",
    "    return math.cos(x)\n",
    "\n",
    "class MyPow:\n",
    "    def __init__(self, base: int= 2) -> None:\n",
    "        self.base = base\n",
    "        \n",
    "    def __call__(self, x):\n",
    "        return pow(x, self.base)"
   ]
  },
  {
   "cell_type": "code",
   "execution_count": 59,
   "metadata": {},
   "outputs": [],
   "source": [
    "import random\n",
    "dag.add(StartNode(\"node_a\", random.random))\n",
    "dag.add(Node(\"node_b\", tan))\n",
    "dag.add(Node(\"node_c\", MyPow()))\n",
    "dag.add(Node(\"node_d\", my_sum))\n",
    "\n",
    "# FIXME\n",
    "dag.connect(\"node_a\", \"node_b\", \"x\")\n",
    "dag.connect(\"node_a\", \"node_c\", \"x\")\n",
    "dag.connect(\"node_b\", \"node_d\", \"x\")\n",
    "dag.connect(\"node_c\", \"node_d\", \"y\")"
   ]
  },
  {
   "cell_type": "code",
   "execution_count": 60,
   "metadata": {},
   "outputs": [
    {
     "name": "stdout",
     "output_type": "stream",
     "text": [
      "{'node_a': ['node_b.x', 'node_c.x'], 'node_b': ['node_d.x'], 'node_c': ['node_d.y'], 'node_d': []}\n"
     ]
    }
   ],
   "source": [
    "print(dag.all_edges)"
   ]
  },
  {
   "cell_type": "code",
   "execution_count": 61,
   "metadata": {},
   "outputs": [],
   "source": [
    "# FIXME not working with instantiation\n",
    "cfg = dag.to_config()\n",
    "dag = DAG.from_config(cfg)\n",
    "dag.run(\"node_b\")"
   ]
  },
  {
   "cell_type": "code",
   "execution_count": 62,
   "metadata": {},
   "outputs": [
    {
     "data": {
      "text/html": [
       "<div>\n",
       "<style scoped>\n",
       "    .dataframe tbody tr th:only-of-type {\n",
       "        vertical-align: middle;\n",
       "    }\n",
       "\n",
       "    .dataframe tbody tr th {\n",
       "        vertical-align: top;\n",
       "    }\n",
       "\n",
       "    .dataframe thead th {\n",
       "        text-align: right;\n",
       "    }\n",
       "</style>\n",
       "<table border=\"1\" class=\"dataframe\">\n",
       "  <thead>\n",
       "    <tr style=\"text-align: right;\">\n",
       "      <th></th>\n",
       "      <th>target</th>\n",
       "      <th>variable</th>\n",
       "      <th>source</th>\n",
       "      <th>value</th>\n",
       "    </tr>\n",
       "  </thead>\n",
       "  <tbody>\n",
       "    <tr>\n",
       "      <th>0</th>\n",
       "      <td>node_b</td>\n",
       "      <td>x</td>\n",
       "      <td>node_a</td>\n",
       "      <td>0.610939</td>\n",
       "    </tr>\n",
       "    <tr>\n",
       "      <th>1</th>\n",
       "      <td>node_c</td>\n",
       "      <td>x</td>\n",
       "      <td>node_a</td>\n",
       "      <td>0.610939</td>\n",
       "    </tr>\n",
       "    <tr>\n",
       "      <th>2</th>\n",
       "      <td>node_d</td>\n",
       "      <td>x</td>\n",
       "      <td>node_b</td>\n",
       "      <td>0.700318</td>\n",
       "    </tr>\n",
       "    <tr>\n",
       "      <th>3</th>\n",
       "      <td>node_d</td>\n",
       "      <td>y</td>\n",
       "      <td>node_c</td>\n",
       "      <td>0.373247</td>\n",
       "    </tr>\n",
       "  </tbody>\n",
       "</table>\n",
       "</div>"
      ],
      "text/plain": [
       "   target variable  source     value\n",
       "0  node_b        x  node_a  0.610939\n",
       "1  node_c        x  node_a  0.610939\n",
       "2  node_d        x  node_b  0.700318\n",
       "3  node_d        y  node_c  0.373247"
      ]
     },
     "execution_count": 62,
     "metadata": {},
     "output_type": "execute_result"
    }
   ],
   "source": [
    "dag.storage.show()"
   ]
  },
  {
   "cell_type": "code",
   "execution_count": 63,
   "metadata": {},
   "outputs": [
    {
     "name": "stdout",
     "output_type": "stream",
     "text": [
      "info: {}\n",
      "dag:\n",
      "  node_a:\n",
      "    name: node_a\n",
      "    content:\n",
      "      _target_: random.random\n",
      "      _partial_: true\n",
      "    variables: null\n",
      "    edges:\n",
      "    - node_b.x\n",
      "    - node_c.x\n",
      "  node_b:\n",
      "    name: node_b\n",
      "    content:\n",
      "      _target_: __main__.tan\n",
      "      _partial_: true\n",
      "    variables:\n",
      "      x:\n",
      "        type: None\n",
      "        value: 0.6109392441504008\n",
      "    edges:\n",
      "    - node_d.x\n",
      "  node_c:\n",
      "    name: node_c\n",
      "    content:\n",
      "      _target_: __main__.MyPow\n",
      "      base: 2\n",
      "    variables:\n",
      "      x:\n",
      "        type: None\n",
      "        value: 0.6109392441504008\n",
      "    edges:\n",
      "    - node_d.y\n",
      "  node_d:\n",
      "    name: node_d\n",
      "    content:\n",
      "      _target_: __main__.my_sum\n",
      "      _partial_: true\n",
      "    variables:\n",
      "      x:\n",
      "        type: None\n",
      "        value: 0.7003178343003321\n",
      "      'y':\n",
      "        type: None\n",
      "        value: 0.373246760043063\n",
      "    edges: []\n",
      "\n"
     ]
    }
   ],
   "source": [
    "print(OmegaConf.to_yaml(dag.to_config()))"
   ]
  }
 ],
 "metadata": {
  "kernelspec": {
   "display_name": "scidag-ryUc_W-U-py3.11",
   "language": "python",
   "name": "python3"
  },
  "language_info": {
   "codemirror_mode": {
    "name": "ipython",
    "version": 3
   },
   "file_extension": ".py",
   "mimetype": "text/x-python",
   "name": "python",
   "nbconvert_exporter": "python",
   "pygments_lexer": "ipython3",
   "version": "3.11.1"
  },
  "orig_nbformat": 4,
  "vscode": {
   "interpreter": {
    "hash": "538423cf93e8590d1085d3d8bc96d2f8b210b6014a2f6052e961514a2337d641"
   }
  }
 },
 "nbformat": 4,
 "nbformat_minor": 2
}
