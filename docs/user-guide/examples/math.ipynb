{
 "cells": [
  {
   "attachments": {},
   "cell_type": "markdown",
   "metadata": {},
   "source": [
    "# Imports"
   ]
  },
  {
   "cell_type": "code",
   "execution_count": 1,
   "metadata": {},
   "outputs": [],
   "source": [
    "from scidag import DAG, StartNode, Node\n",
    "from omegaconf import OmegaConf\n",
    "dag = DAG()"
   ]
  },
  {
   "cell_type": "markdown",
   "metadata": {},
   "source": [
    "# CREATING SOME FUNCTIONS"
   ]
  },
  {
   "attachments": {},
   "cell_type": "markdown",
   "metadata": {},
   "source": [
    "# FIXME write down philosophy "
   ]
  },
  {
   "cell_type": "code",
   "execution_count": 2,
   "metadata": {},
   "outputs": [],
   "source": [
    "# FIXME \n",
    "import math\n",
    "\n",
    "def my_sum(x, y) -> float:\n",
    "    return x + y\n",
    "\n",
    "def tan(x) -> float:\n",
    "    return math.tan(x)\n",
    "\n",
    "class TestClass:\n",
    "    def __init__(self, test=10) -> None:\n",
    "        pass\n",
    "\n",
    "def cos(x, b = TestClass()) -> float:\n",
    "    return math.cos(x)\n",
    "\n",
    "class MyPow:\n",
    "    def __init__(self, base: int= 2) -> None:\n",
    "        self.base = base\n",
    "        \n",
    "    def __call__(self, x):\n",
    "        return pow(x, self.base)"
   ]
  },
  {
   "cell_type": "code",
   "execution_count": 3,
   "metadata": {},
   "outputs": [],
   "source": [
    "import random\n",
    "dag.add(StartNode(\"node_a\", random.random))\n",
    "dag.add(Node(\"node_b\", tan))\n",
    "dag.add(Node(\"node_c\", MyPow()))\n",
    "dag.add(Node(\"node_d\", my_sum))\n",
    "\n",
    "# FIXME\n",
    "dag.connect(\"node_a\", \"node_b\", \"x\")\n",
    "dag.connect(\"node_a\", \"node_c\", \"x\")\n",
    "dag.connect(\"node_b\", \"node_d\", \"x\")\n",
    "dag.connect(\"node_c\", \"node_d\", \"y\")"
   ]
  },
  {
   "cell_type": "code",
   "execution_count": 4,
   "metadata": {},
   "outputs": [
    {
     "name": "stdout",
     "output_type": "stream",
     "text": [
      "{'node_a': ['node_b.x', 'node_c.x'], 'node_b': ['node_d.x'], 'node_c': ['node_d.y'], 'node_d': []}\n"
     ]
    }
   ],
   "source": [
    "print(dag.all_edges)"
   ]
  },
  {
   "cell_type": "code",
   "execution_count": 5,
   "metadata": {},
   "outputs": [
    {
     "name": "stdout",
     "output_type": "stream",
     "text": [
      "not in hassatr\n",
      "info: {}\n",
      "dag:\n",
      "  node_a:\n",
      "    name: node_a\n",
      "    content:\n",
      "      _target_: random.random\n",
      "      _partial_: true\n",
      "    variables: null\n",
      "    edges:\n",
      "    - node_b.x\n",
      "    - node_c.x\n",
      "  node_b:\n",
      "    name: node_b\n",
      "    content:\n",
      "      _target_: __main__.tan\n",
      "      _partial_: true\n",
      "    variables:\n",
      "      x:\n",
      "        type: None\n",
      "        value: null\n",
      "    edges:\n",
      "    - node_d.x\n",
      "  node_c:\n",
      "    name: node_c\n",
      "    content:\n",
      "      _target_: __main__.MyPow\n",
      "      _partial_: false\n",
      "      base: 2\n",
      "    variables:\n",
      "      x:\n",
      "        type: None\n",
      "        value: null\n",
      "    edges:\n",
      "    - node_d.y\n",
      "  node_d:\n",
      "    name: node_d\n",
      "    content:\n",
      "      _target_: __main__.my_sum\n",
      "      _partial_: true\n",
      "    variables:\n",
      "      x:\n",
      "        type: None\n",
      "        value: null\n",
      "      'y':\n",
      "        type: None\n",
      "        value: null\n",
      "    edges: []\n",
      "\n"
     ]
    },
    {
     "ename": "ValueError",
     "evalue": "Building: partial ..\n<class 'functools.partial'> does not have an inspectable signature. `builds(partial, populate_full_signature=True)` is not supported",
     "output_type": "error",
     "traceback": [
      "\u001b[0;31m---------------------------------------------------------------------------\u001b[0m",
      "\u001b[0;31mValueError\u001b[0m                                Traceback (most recent call last)",
      "File \u001b[0;32m~/.cache/pypoetry/virtualenvs/scidag-ryUc_W-U-py3.11/lib/python3.11/site-packages/hydra_zen/structured_configs/_implementations.py:1773\u001b[0m, in \u001b[0;36mbuilds\u001b[0;34m(***failed resolving arguments***)\u001b[0m\n\u001b[1;32m   1769\u001b[0m \u001b[39mtry\u001b[39;00m:\n\u001b[1;32m   1770\u001b[0m     \u001b[39m# We want to rely on `inspect.signature` logic for raising\u001b[39;00m\n\u001b[1;32m   1771\u001b[0m     \u001b[39m# against an uninspectable sig, before we start inspecting\u001b[39;00m\n\u001b[1;32m   1772\u001b[0m     \u001b[39m# class-specific attributes below.\u001b[39;00m\n\u001b[0;32m-> 1773\u001b[0m     signature_params \u001b[39m=\u001b[39m \u001b[39mdict\u001b[39m(inspect\u001b[39m.\u001b[39;49msignature(target)\u001b[39m.\u001b[39mparameters)\n\u001b[1;32m   1774\u001b[0m \u001b[39mexcept\u001b[39;00m \u001b[39mValueError\u001b[39;00m:\n",
      "File \u001b[0;32m~/.pyenv/versions/3.11.1/lib/python3.11/inspect.py:3278\u001b[0m, in \u001b[0;36msignature\u001b[0;34m(obj, follow_wrapped, globals, locals, eval_str)\u001b[0m\n\u001b[1;32m   3277\u001b[0m \u001b[39m\u001b[39m\u001b[39m\"\"\"Get a signature object for the passed callable.\"\"\"\u001b[39;00m\n\u001b[0;32m-> 3278\u001b[0m \u001b[39mreturn\u001b[39;00m Signature\u001b[39m.\u001b[39;49mfrom_callable(obj, follow_wrapped\u001b[39m=\u001b[39;49mfollow_wrapped,\n\u001b[1;32m   3279\u001b[0m                                \u001b[39mglobals\u001b[39;49m\u001b[39m=\u001b[39;49m\u001b[39mglobals\u001b[39;49m, \u001b[39mlocals\u001b[39;49m\u001b[39m=\u001b[39;49m\u001b[39mlocals\u001b[39;49m, eval_str\u001b[39m=\u001b[39;49meval_str)\n",
      "File \u001b[0;32m~/.pyenv/versions/3.11.1/lib/python3.11/inspect.py:3026\u001b[0m, in \u001b[0;36mSignature.from_callable\u001b[0;34m(cls, obj, follow_wrapped, globals, locals, eval_str)\u001b[0m\n\u001b[1;32m   3025\u001b[0m \u001b[39m\u001b[39m\u001b[39m\"\"\"Constructs Signature for the given callable object.\"\"\"\u001b[39;00m\n\u001b[0;32m-> 3026\u001b[0m \u001b[39mreturn\u001b[39;00m _signature_from_callable(obj, sigcls\u001b[39m=\u001b[39;49m\u001b[39mcls\u001b[39;49m,\n\u001b[1;32m   3027\u001b[0m                                 follow_wrapper_chains\u001b[39m=\u001b[39;49mfollow_wrapped,\n\u001b[1;32m   3028\u001b[0m                                 \u001b[39mglobals\u001b[39;49m\u001b[39m=\u001b[39;49m\u001b[39mglobals\u001b[39;49m, \u001b[39mlocals\u001b[39;49m\u001b[39m=\u001b[39;49m\u001b[39mlocals\u001b[39;49m, eval_str\u001b[39m=\u001b[39;49meval_str)\n",
      "File \u001b[0;32m~/.pyenv/versions/3.11.1/lib/python3.11/inspect.py:2586\u001b[0m, in \u001b[0;36m_signature_from_callable\u001b[0;34m(obj, follow_wrapper_chains, skip_bound_arg, globals, locals, eval_str, sigcls)\u001b[0m\n\u001b[1;32m   2585\u001b[0m             \u001b[39melse\u001b[39;00m:\n\u001b[0;32m-> 2586\u001b[0m                 \u001b[39mraise\u001b[39;00m \u001b[39mValueError\u001b[39;00m(\n\u001b[1;32m   2587\u001b[0m                     \u001b[39m'\u001b[39m\u001b[39mno signature found for builtin type \u001b[39m\u001b[39m{!r}\u001b[39;00m\u001b[39m'\u001b[39m\u001b[39m.\u001b[39mformat(obj))\n\u001b[1;32m   2589\u001b[0m \u001b[39melif\u001b[39;00m \u001b[39mnot\u001b[39;00m \u001b[39misinstance\u001b[39m(obj, _NonUserDefinedCallables):\n\u001b[1;32m   2590\u001b[0m     \u001b[39m# An object with __call__\u001b[39;00m\n\u001b[1;32m   2591\u001b[0m     \u001b[39m# We also check that the 'obj' is not an instance of\u001b[39;00m\n\u001b[1;32m   2592\u001b[0m     \u001b[39m# types.WrapperDescriptorType or types.MethodWrapperType to avoid\u001b[39;00m\n\u001b[1;32m   2593\u001b[0m     \u001b[39m# infinite recursion (and even potential segfault)\u001b[39;00m\n",
      "\u001b[0;31mValueError\u001b[0m: no signature found for builtin type <class 'functools.partial'>",
      "\nDuring handling of the above exception, another exception occurred:\n",
      "\u001b[0;31mValueError\u001b[0m                                Traceback (most recent call last)",
      "Cell \u001b[0;32mIn[5], line 8\u001b[0m\n\u001b[1;32m      6\u001b[0m \u001b[39mprint\u001b[39m(to_yaml(cfg))\n\u001b[1;32m      7\u001b[0m dag \u001b[39m=\u001b[39m DAG\u001b[39m.\u001b[39mfrom_config(cfg)\n\u001b[0;32m----> 8\u001b[0m dag\u001b[39m.\u001b[39;49mrun(\u001b[39m\"\u001b[39;49m\u001b[39mnode_b\u001b[39;49m\u001b[39m\"\u001b[39;49m)\n",
      "File \u001b[0;32m~/projects/scidag/scidag/core/graph/dag.py:122\u001b[0m, in \u001b[0;36mDAG.run\u001b[0;34m(self, start)\u001b[0m\n\u001b[1;32m    120\u001b[0m     nest_asyncio\u001b[39m.\u001b[39mapply()\n\u001b[1;32m    121\u001b[0m loop \u001b[39m=\u001b[39m asyncio\u001b[39m.\u001b[39mget_event_loop()\n\u001b[0;32m--> 122\u001b[0m loop\u001b[39m.\u001b[39;49mrun_until_complete(\u001b[39mself\u001b[39;49m(start))\n",
      "File \u001b[0;32m~/.cache/pypoetry/virtualenvs/scidag-ryUc_W-U-py3.11/lib/python3.11/site-packages/nest_asyncio.py:90\u001b[0m, in \u001b[0;36m_patch_loop.<locals>.run_until_complete\u001b[0;34m(self, future)\u001b[0m\n\u001b[1;32m     87\u001b[0m \u001b[39mif\u001b[39;00m \u001b[39mnot\u001b[39;00m f\u001b[39m.\u001b[39mdone():\n\u001b[1;32m     88\u001b[0m     \u001b[39mraise\u001b[39;00m \u001b[39mRuntimeError\u001b[39;00m(\n\u001b[1;32m     89\u001b[0m         \u001b[39m'\u001b[39m\u001b[39mEvent loop stopped before Future completed.\u001b[39m\u001b[39m'\u001b[39m)\n\u001b[0;32m---> 90\u001b[0m \u001b[39mreturn\u001b[39;00m f\u001b[39m.\u001b[39;49mresult()\n",
      "File \u001b[0;32m~/.pyenv/versions/3.11.1/lib/python3.11/asyncio/futures.py:203\u001b[0m, in \u001b[0;36mFuture.result\u001b[0;34m(self)\u001b[0m\n\u001b[1;32m    201\u001b[0m \u001b[39mself\u001b[39m\u001b[39m.\u001b[39m__log_traceback \u001b[39m=\u001b[39m \u001b[39mFalse\u001b[39;00m\n\u001b[1;32m    202\u001b[0m \u001b[39mif\u001b[39;00m \u001b[39mself\u001b[39m\u001b[39m.\u001b[39m_exception \u001b[39mis\u001b[39;00m \u001b[39mnot\u001b[39;00m \u001b[39mNone\u001b[39;00m:\n\u001b[0;32m--> 203\u001b[0m     \u001b[39mraise\u001b[39;00m \u001b[39mself\u001b[39m\u001b[39m.\u001b[39m_exception\u001b[39m.\u001b[39mwith_traceback(\u001b[39mself\u001b[39m\u001b[39m.\u001b[39m_exception_tb)\n\u001b[1;32m    204\u001b[0m \u001b[39mreturn\u001b[39;00m \u001b[39mself\u001b[39m\u001b[39m.\u001b[39m_result\n",
      "File \u001b[0;32m~/.pyenv/versions/3.11.1/lib/python3.11/asyncio/tasks.py:267\u001b[0m, in \u001b[0;36mTask.__step\u001b[0;34m(***failed resolving arguments***)\u001b[0m\n\u001b[1;32m    263\u001b[0m \u001b[39mtry\u001b[39;00m:\n\u001b[1;32m    264\u001b[0m     \u001b[39mif\u001b[39;00m exc \u001b[39mis\u001b[39;00m \u001b[39mNone\u001b[39;00m:\n\u001b[1;32m    265\u001b[0m         \u001b[39m# We use the `send` method directly, because coroutines\u001b[39;00m\n\u001b[1;32m    266\u001b[0m         \u001b[39m# don't have `__iter__` and `__next__` methods.\u001b[39;00m\n\u001b[0;32m--> 267\u001b[0m         result \u001b[39m=\u001b[39m coro\u001b[39m.\u001b[39;49msend(\u001b[39mNone\u001b[39;49;00m)\n\u001b[1;32m    268\u001b[0m     \u001b[39melse\u001b[39;00m:\n\u001b[1;32m    269\u001b[0m         result \u001b[39m=\u001b[39m coro\u001b[39m.\u001b[39mthrow(exc)\n",
      "File \u001b[0;32m~/projects/scidag/scidag/core/graph/dag.py:133\u001b[0m, in \u001b[0;36mDAG.__call__\u001b[0;34m(self, start)\u001b[0m\n\u001b[1;32m    131\u001b[0m     \u001b[39mraise\u001b[39;00m\n\u001b[1;32m    132\u001b[0m \u001b[39mfinally\u001b[39;00m:\n\u001b[0;32m--> 133\u001b[0m     \u001b[39mself\u001b[39;49m\u001b[39m.\u001b[39;49msave()\n",
      "File \u001b[0;32m~/projects/scidag/scidag/core/graph/dag.py:146\u001b[0m, in \u001b[0;36mDAG.save\u001b[0;34m(self)\u001b[0m\n\u001b[1;32m    143\u001b[0m \u001b[39mif\u001b[39;00m \u001b[39mnot\u001b[39;00m os\u001b[39m.\u001b[39mpath\u001b[39m.\u001b[39misdir(path_dir):\n\u001b[1;32m    144\u001b[0m     os\u001b[39m.\u001b[39mmakedirs(path_dir)\n\u001b[1;32m    145\u001b[0m OmegaConf\u001b[39m.\u001b[39msave(\n\u001b[0;32m--> 146\u001b[0m     \u001b[39mself\u001b[39;49m\u001b[39m.\u001b[39;49mto_config(), os\u001b[39m.\u001b[39mpath\u001b[39m.\u001b[39mjoin(path_dir, \u001b[39m\"\u001b[39m\u001b[39mconfig.yaml\u001b[39m\u001b[39m\"\u001b[39m), resolve\u001b[39m=\u001b[39m\u001b[39mTrue\u001b[39;00m\n\u001b[1;32m    147\u001b[0m )\n\u001b[1;32m    148\u001b[0m \u001b[39mself\u001b[39m\u001b[39m.\u001b[39mstorage\u001b[39m.\u001b[39msave(path_dir)\n",
      "File \u001b[0;32m~/projects/scidag/scidag/core/graph/dag.py:46\u001b[0m, in \u001b[0;36mDAG.to_config\u001b[0;34m(self)\u001b[0m\n\u001b[1;32m     45\u001b[0m \u001b[39mdef\u001b[39;00m \u001b[39mto_config\u001b[39m(\u001b[39mself\u001b[39m) \u001b[39m-\u001b[39m\u001b[39m>\u001b[39m DagConfig:\n\u001b[0;32m---> 46\u001b[0m     \u001b[39mreturn\u001b[39;00m OmegaConf\u001b[39m.\u001b[39mstructured(make_dag_config(\u001b[39mself\u001b[39;49m))\n",
      "File \u001b[0;32m~/projects/scidag/scidag/utils/configurable.py:109\u001b[0m, in \u001b[0;36mmake_dag_config\u001b[0;34m(obj)\u001b[0m\n\u001b[1;32m    107\u001b[0m \u001b[39m# FIXME: Bad naming for node pairs\u001b[39;00m\n\u001b[1;32m    108\u001b[0m \u001b[39mfor\u001b[39;00m node_name, node \u001b[39min\u001b[39;00m obj\u001b[39m.\u001b[39mnodes\u001b[39m.\u001b[39mnodes\u001b[39m.\u001b[39mitems():\n\u001b[0;32m--> 109\u001b[0m     node_cfg \u001b[39m=\u001b[39m make_node_config(node)\n\u001b[1;32m    110\u001b[0m     node_cfg\u001b[39m.\u001b[39medges \u001b[39m=\u001b[39m obj\u001b[39m.\u001b[39mall_edges[node_name]\n\u001b[1;32m    111\u001b[0m     cfg\u001b[39m.\u001b[39mdag[node_name] \u001b[39m=\u001b[39m node_cfg\n",
      "File \u001b[0;32m~/projects/scidag/scidag/utils/configurable.py:79\u001b[0m, in \u001b[0;36mmake_node_config\u001b[0;34m(node)\u001b[0m\n\u001b[1;32m     76\u001b[0m \u001b[39mif\u001b[39;00m \u001b[39mnot\u001b[39;00m \u001b[39mhasattr\u001b[39m(node\u001b[39m.\u001b[39mcontent, \u001b[39m\"\u001b[39m\u001b[39m__name__\u001b[39m\u001b[39m\"\u001b[39m):\n\u001b[1;32m     77\u001b[0m     \u001b[39mtry\u001b[39;00m:\n\u001b[1;32m     78\u001b[0m         obj_cfg \u001b[39m=\u001b[39m OmegaConf\u001b[39m.\u001b[39mstructured(\n\u001b[0;32m---> 79\u001b[0m             hz\u001b[39m.\u001b[39;49mbuilds(\n\u001b[1;32m     80\u001b[0m                 node\u001b[39m.\u001b[39;49mcontent\u001b[39m.\u001b[39;49m\u001b[39m__class__\u001b[39;49m,\n\u001b[1;32m     81\u001b[0m                 \u001b[39m*\u001b[39;49m\u001b[39m*\u001b[39;49mparams,\n\u001b[1;32m     82\u001b[0m                 populate_full_signature\u001b[39m=\u001b[39;49m\u001b[39mTrue\u001b[39;49;00m,\n\u001b[1;32m     83\u001b[0m                 zen_partial\u001b[39m=\u001b[39;49m\u001b[39mFalse\u001b[39;49;00m,\n\u001b[1;32m     84\u001b[0m             )\n\u001b[1;32m     85\u001b[0m         )\n\u001b[1;32m     86\u001b[0m     \u001b[39mexcept\u001b[39;00m \u001b[39mAttributeError\u001b[39;00m:\n\u001b[1;32m     87\u001b[0m         \u001b[39mprint\u001b[39m(\u001b[39m\"\u001b[39m\u001b[39min hassart\u001b[39m\u001b[39m\"\u001b[39m)\n",
      "File \u001b[0;32m~/.cache/pypoetry/virtualenvs/scidag-ryUc_W-U-py3.11/lib/python3.11/site-packages/hydra_zen/structured_configs/_implementations.py:1776\u001b[0m, in \u001b[0;36mbuilds\u001b[0;34m(***failed resolving arguments***)\u001b[0m\n\u001b[1;32m   1774\u001b[0m \u001b[39mexcept\u001b[39;00m \u001b[39mValueError\u001b[39;00m:\n\u001b[1;32m   1775\u001b[0m     \u001b[39mif\u001b[39;00m populate_full_signature:\n\u001b[0;32m-> 1776\u001b[0m         \u001b[39mraise\u001b[39;00m \u001b[39mValueError\u001b[39;00m(\n\u001b[1;32m   1777\u001b[0m             BUILDS_ERROR_PREFIX\n\u001b[1;32m   1778\u001b[0m             \u001b[39m+\u001b[39m \u001b[39mf\u001b[39m\u001b[39m\"\u001b[39m\u001b[39m{\u001b[39;00mtarget\u001b[39m}\u001b[39;00m\u001b[39m does not have an inspectable signature. \u001b[39m\u001b[39m\"\u001b[39m\n\u001b[1;32m   1779\u001b[0m             \u001b[39mf\u001b[39m\u001b[39m\"\u001b[39m\u001b[39m`builds(\u001b[39m\u001b[39m{\u001b[39;00m_utils\u001b[39m.\u001b[39msafe_name(target)\u001b[39m}\u001b[39;00m\u001b[39m, populate_full_signature=True)` is not supported\u001b[39m\u001b[39m\"\u001b[39m\n\u001b[1;32m   1780\u001b[0m         )\n\u001b[1;32m   1781\u001b[0m     signature_params: Dict[\u001b[39mstr\u001b[39m, inspect\u001b[39m.\u001b[39mParameter] \u001b[39m=\u001b[39m {}\n\u001b[1;32m   1782\u001b[0m     \u001b[39m# We will turn off signature validation for objects that didn't have\u001b[39;00m\n\u001b[1;32m   1783\u001b[0m     \u001b[39m# a valid signature. This will enable us to do things like `build(dict, a=1)`\u001b[39;00m\n",
      "\u001b[0;31mValueError\u001b[0m: Building: partial ..\n<class 'functools.partial'> does not have an inspectable signature. `builds(partial, populate_full_signature=True)` is not supported"
     ]
    }
   ],
   "source": [
    "# FIXME not working with instantiation\n",
    "cfg = dag.to_config()\n",
    "dag = DAG.from_config(cfg)\n",
    "dag.run(\"node_b\")"
   ]
  },
  {
   "cell_type": "code",
   "execution_count": null,
   "metadata": {},
   "outputs": [
    {
     "data": {
      "text/html": [
       "<div>\n",
       "<style scoped>\n",
       "    .dataframe tbody tr th:only-of-type {\n",
       "        vertical-align: middle;\n",
       "    }\n",
       "\n",
       "    .dataframe tbody tr th {\n",
       "        vertical-align: top;\n",
       "    }\n",
       "\n",
       "    .dataframe thead th {\n",
       "        text-align: right;\n",
       "    }\n",
       "</style>\n",
       "<table border=\"1\" class=\"dataframe\">\n",
       "  <thead>\n",
       "    <tr style=\"text-align: right;\">\n",
       "      <th></th>\n",
       "      <th>target</th>\n",
       "      <th>variable</th>\n",
       "      <th>source</th>\n",
       "      <th>value</th>\n",
       "    </tr>\n",
       "  </thead>\n",
       "  <tbody>\n",
       "    <tr>\n",
       "      <th>0</th>\n",
       "      <td>node_b</td>\n",
       "      <td>x</td>\n",
       "      <td>node_a</td>\n",
       "      <td>0.502811</td>\n",
       "    </tr>\n",
       "    <tr>\n",
       "      <th>1</th>\n",
       "      <td>node_c</td>\n",
       "      <td>x</td>\n",
       "      <td>node_a</td>\n",
       "      <td>0.502811</td>\n",
       "    </tr>\n",
       "    <tr>\n",
       "      <th>2</th>\n",
       "      <td>node_d</td>\n",
       "      <td>x</td>\n",
       "      <td>node_b</td>\n",
       "      <td>0.549958</td>\n",
       "    </tr>\n",
       "    <tr>\n",
       "      <th>3</th>\n",
       "      <td>node_d</td>\n",
       "      <td>y</td>\n",
       "      <td>node_c</td>\n",
       "      <td>0.252819</td>\n",
       "    </tr>\n",
       "  </tbody>\n",
       "</table>\n",
       "</div>"
      ],
      "text/plain": [
       "   target variable  source     value\n",
       "0  node_b        x  node_a  0.502811\n",
       "1  node_c        x  node_a  0.502811\n",
       "2  node_d        x  node_b  0.549958\n",
       "3  node_d        y  node_c  0.252819"
      ]
     },
     "execution_count": 11,
     "metadata": {},
     "output_type": "execute_result"
    }
   ],
   "source": [
    "dag.storage.show()"
   ]
  },
  {
   "cell_type": "code",
   "execution_count": null,
   "metadata": {},
   "outputs": [
    {
     "name": "stdout",
     "output_type": "stream",
     "text": [
      "info: {}\n",
      "dag:\n",
      "  node_a:\n",
      "    name: node_a\n",
      "    content:\n",
      "      _target_: random.random\n",
      "      _partial_: true\n",
      "    variables: null\n",
      "    edges:\n",
      "    - node_b.x\n",
      "    - node_c.x\n",
      "  node_b:\n",
      "    name: node_b\n",
      "    content:\n",
      "      _target_: __main__.tan\n",
      "      _partial_: true\n",
      "    variables:\n",
      "      x:\n",
      "        type: None\n",
      "        value: 0.1445091811011916\n",
      "    edges:\n",
      "    - node_d.x\n",
      "  node_c:\n",
      "    name: node_c\n",
      "    content:\n",
      "      _target_: __main__.my_pow\n",
      "      _partial_: true\n",
      "      base: 2\n",
      "      dummy:\n",
      "        _target_: __main__.MyPow\n",
      "        base: 2\n",
      "    variables:\n",
      "      x:\n",
      "        type: None\n",
      "        value: 0.1445091811011916\n",
      "    edges:\n",
      "    - node_d.y\n",
      "  node_d:\n",
      "    name: node_d\n",
      "    content:\n",
      "      _target_: __main__.my_sum\n",
      "      _partial_: true\n",
      "    variables:\n",
      "      x:\n",
      "        type: None\n",
      "        value: 0.1455235791325766\n",
      "      'y':\n",
      "        type: None\n",
      "        value: 0.02088290342253699\n",
      "    edges: []\n",
      "\n"
     ]
    }
   ],
   "source": [
    "print(OmegaConf.to_yaml(dag.to_config()))"
   ]
  }
 ],
 "metadata": {
  "kernelspec": {
   "display_name": "scidag-ryUc_W-U-py3.11",
   "language": "python",
   "name": "python3"
  },
  "language_info": {
   "codemirror_mode": {
    "name": "ipython",
    "version": 3
   },
   "file_extension": ".py",
   "mimetype": "text/x-python",
   "name": "python",
   "nbconvert_exporter": "python",
   "pygments_lexer": "ipython3",
   "version": "3.11.1"
  },
  "orig_nbformat": 4,
  "vscode": {
   "interpreter": {
    "hash": "538423cf93e8590d1085d3d8bc96d2f8b210b6014a2f6052e961514a2337d641"
   }
  }
 },
 "nbformat": 4,
 "nbformat_minor": 2
}
