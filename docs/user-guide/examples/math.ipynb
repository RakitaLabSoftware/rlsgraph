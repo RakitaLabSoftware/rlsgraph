{
 "cells": [
  {
   "attachments": {},
   "cell_type": "markdown",
   "metadata": {},
   "source": [
    "# Imports"
   ]
  },
  {
   "cell_type": "code",
   "execution_count": 1,
   "metadata": {},
   "outputs": [],
   "source": [
    "from scidag import DAG, StartNode, Node\n",
    "from omegaconf import OmegaConf\n",
    "dag = DAG()"
   ]
  },
  {
   "cell_type": "markdown",
   "metadata": {},
   "source": [
    "# CREATING SOME FUNCTIONS"
   ]
  },
  {
   "cell_type": "code",
   "execution_count": 2,
   "metadata": {},
   "outputs": [],
   "source": [
    "# FIXME \n",
    "import math\n",
    "import numpy as np\n",
    "\n",
    "def my_sum(x, y) -> float:\n",
    "    return x + y\n",
    "\n",
    "def tan(x) -> float:\n",
    "    return math.tan(x)\n",
    "\n",
    "class TestClass:\n",
    "    def __init__(self, test=10) -> None:\n",
    "        pass\n",
    "\n",
    "def cos(x, b = TestClass()) -> float:\n",
    "    return math.cos(x)\n",
    "\n",
    "class Default:\n",
    "    def __init__(self, base:int = 2) -> None:\n",
    "        self.base = base\n",
    "        \n",
    "class MyPow:\n",
    "    def __init__(self, default = Default()) -> None:\n",
    "        self.base = default.base\n",
    "        \n",
    "    def __call__(self, x):\n",
    "        return pow(x, self.base)"
   ]
  },
  {
   "cell_type": "code",
   "execution_count": 3,
   "metadata": {},
   "outputs": [],
   "source": [
    "import random\n",
    "dag.add(StartNode(\"node_a\", random.random))\n",
    "dag.add(Node(\"node_b\", tan))\n",
    "dag.add(Node(\"node_c\", MyPow()))\n",
    "dag.add(Node(\"node_d\", my_sum))\n",
    "\n",
    "# FIXME\n",
    "dag.connect(\"node_a\", \"node_b\", \"x\")\n",
    "dag.connect(\"node_a\", \"node_c\", \"x\")\n",
    "dag.connect(\"node_b\", \"node_d\", \"x\")\n",
    "dag.connect(\"node_c\", \"node_d\", \"y\")"
   ]
  },
  {
   "cell_type": "code",
   "execution_count": 4,
   "metadata": {},
   "outputs": [
    {
     "name": "stdout",
     "output_type": "stream",
     "text": [
      "{'node_a': ['node_b.x', 'node_c.x'], 'node_b': ['node_d.x'], 'node_c': ['node_d.y'], 'node_d': []}\n"
     ]
    }
   ],
   "source": [
    "print(dag.all_edges)"
   ]
  },
  {
   "cell_type": "code",
   "execution_count": 5,
   "metadata": {},
   "outputs": [
    {
     "ename": "HydraZenUnsupportedPrimitiveError",
     "evalue": "Building: MyPow ..\n The configured value <__main__.Default object at 0x7f5051373750>, for field `default`, is not supported by Hydra -- serializing or instantiating this config would ultimately result in an error.\n\nConsider using `hydra_zen.builds(<class '__main__.Default'>, ...)` create a config for this particular value.",
     "output_type": "error",
     "traceback": [
      "\u001b[0;31m---------------------------------------------------------------------------\u001b[0m",
      "\u001b[0;31mAttributeError\u001b[0m                            Traceback (most recent call last)",
      "File \u001b[0;32m~/projects/scidag/scidag/utils/configurable.py:75\u001b[0m, in \u001b[0;36mmake_node_config\u001b[0;34m(node)\u001b[0m\n\u001b[1;32m     74\u001b[0m \u001b[39mtry\u001b[39;00m:\n\u001b[0;32m---> 75\u001b[0m     obj_cfg \u001b[39m=\u001b[39m hz\u001b[39m.\u001b[39;49mbuilds(\n\u001b[1;32m     76\u001b[0m         node\u001b[39m.\u001b[39;49mcontent,\n\u001b[1;32m     77\u001b[0m         \u001b[39m*\u001b[39;49m\u001b[39m*\u001b[39;49mparams,\n\u001b[1;32m     78\u001b[0m         populate_full_signature\u001b[39m=\u001b[39;49m\u001b[39mTrue\u001b[39;49;00m,\n\u001b[1;32m     79\u001b[0m         zen_partial\u001b[39m=\u001b[39;49m\u001b[39mTrue\u001b[39;49;00m,\n\u001b[1;32m     80\u001b[0m     )\n\u001b[1;32m     81\u001b[0m \u001b[39mexcept\u001b[39;00m \u001b[39mAttributeError\u001b[39;00m:\n",
      "File \u001b[0;32m~/.cache/pypoetry/virtualenvs/scidag-ryUc_W-U-py3.11/lib/python3.11/site-packages/hydra_zen/structured_configs/_implementations.py:1563\u001b[0m, in \u001b[0;36mbuilds\u001b[0;34m(***failed resolving arguments***)\u001b[0m\n\u001b[1;32m   1561\u001b[0m target_field: List[Union[Tuple[\u001b[39mstr\u001b[39m, Type[Any]], Tuple[\u001b[39mstr\u001b[39m, Type[Any], Any]]]\n\u001b[0;32m-> 1563\u001b[0m target_path: Final[\u001b[39mstr\u001b[39m] \u001b[39m=\u001b[39m _utils\u001b[39m.\u001b[39;49mget_obj_path(target)\n\u001b[1;32m   1565\u001b[0m \u001b[39m# zen_partial behavior:\u001b[39;00m\n\u001b[1;32m   1566\u001b[0m \u001b[39m#\u001b[39;00m\n\u001b[1;32m   1567\u001b[0m \u001b[39m# If zen_partial is not None: zen_partial dictates if output is PartialBuilds\u001b[39;00m\n\u001b[0;32m   (...)\u001b[0m\n\u001b[1;32m   1575\u001b[0m \u001b[39m#    then set _partial_=False, _zen_partial=zen_partial\u001b[39;00m\n\u001b[1;32m   1576\u001b[0m \u001b[39m#\u001b[39;00m\n",
      "File \u001b[0;32m~/.cache/pypoetry/virtualenvs/scidag-ryUc_W-U-py3.11/lib/python3.11/site-packages/hydra_zen/structured_configs/_utils.py:256\u001b[0m, in \u001b[0;36mget_obj_path\u001b[0;34m(obj)\u001b[0m\n\u001b[1;32m    255\u001b[0m \u001b[39mif\u001b[39;00m name \u001b[39m==\u001b[39m UNKNOWN_NAME:\n\u001b[0;32m--> 256\u001b[0m     \u001b[39mraise\u001b[39;00m \u001b[39mAttributeError\u001b[39;00m(\u001b[39mf\u001b[39m\u001b[39m\"\u001b[39m\u001b[39m{\u001b[39;00mobj\u001b[39m}\u001b[39;00m\u001b[39m does not have a `__name__` attribute\u001b[39m\u001b[39m\"\u001b[39m)\n\u001b[1;32m    258\u001b[0m module \u001b[39m=\u001b[39m \u001b[39mgetattr\u001b[39m(obj, \u001b[39m\"\u001b[39m\u001b[39m__module__\u001b[39m\u001b[39m\"\u001b[39m, \u001b[39mNone\u001b[39;00m)\n",
      "\u001b[0;31mAttributeError\u001b[0m: <__main__.MyPow object at 0x7f50534df090> does not have a `__name__` attribute",
      "\nDuring handling of the above exception, another exception occurred:\n",
      "\u001b[0;31mHydraZenUnsupportedPrimitiveError\u001b[0m         Traceback (most recent call last)",
      "Cell \u001b[0;32mIn[5], line 2\u001b[0m\n\u001b[1;32m      1\u001b[0m \u001b[39m# FIXME not working with instantiation\u001b[39;00m\n\u001b[0;32m----> 2\u001b[0m cfg \u001b[39m=\u001b[39m dag\u001b[39m.\u001b[39;49mto_config()\n\u001b[1;32m      3\u001b[0m dag \u001b[39m=\u001b[39m DAG\u001b[39m.\u001b[39mfrom_config(cfg)\n\u001b[1;32m      4\u001b[0m dag\u001b[39m.\u001b[39mrun(\u001b[39m\"\u001b[39m\u001b[39mnode_b\u001b[39m\u001b[39m\"\u001b[39m)\n",
      "File \u001b[0;32m~/projects/scidag/scidag/core/graph/dag.py:48\u001b[0m, in \u001b[0;36mDAG.to_config\u001b[0;34m(self)\u001b[0m\n\u001b[1;32m     47\u001b[0m \u001b[39mdef\u001b[39;00m \u001b[39mto_config\u001b[39m(\u001b[39mself\u001b[39m) \u001b[39m-\u001b[39m\u001b[39m>\u001b[39m DagConfig:\n\u001b[0;32m---> 48\u001b[0m     \u001b[39mreturn\u001b[39;00m OmegaConf\u001b[39m.\u001b[39mstructured(make_dag_config(\u001b[39mself\u001b[39;49m))\n",
      "File \u001b[0;32m~/projects/scidag/scidag/utils/configurable.py:96\u001b[0m, in \u001b[0;36mmake_dag_config\u001b[0;34m(obj)\u001b[0m\n\u001b[1;32m     94\u001b[0m \u001b[39m# FIXME: Bad naming for node pairs\u001b[39;00m\n\u001b[1;32m     95\u001b[0m \u001b[39mfor\u001b[39;00m node_name, node \u001b[39min\u001b[39;00m obj\u001b[39m.\u001b[39mnodes\u001b[39m.\u001b[39mnodes\u001b[39m.\u001b[39mitems():\n\u001b[0;32m---> 96\u001b[0m     node_cfg \u001b[39m=\u001b[39m make_node_config(node)\n\u001b[1;32m     97\u001b[0m     node_cfg\u001b[39m.\u001b[39medges \u001b[39m=\u001b[39m obj\u001b[39m.\u001b[39mall_edges[node_name]\n\u001b[1;32m     98\u001b[0m     cfg\u001b[39m.\u001b[39mdag[node_name] \u001b[39m=\u001b[39m node_cfg\n",
      "File \u001b[0;32m~/projects/scidag/scidag/utils/configurable.py:82\u001b[0m, in \u001b[0;36mmake_node_config\u001b[0;34m(node)\u001b[0m\n\u001b[1;32m     75\u001b[0m     obj_cfg \u001b[39m=\u001b[39m hz\u001b[39m.\u001b[39mbuilds(\n\u001b[1;32m     76\u001b[0m         node\u001b[39m.\u001b[39mcontent,\n\u001b[1;32m     77\u001b[0m         \u001b[39m*\u001b[39m\u001b[39m*\u001b[39mparams,\n\u001b[1;32m     78\u001b[0m         populate_full_signature\u001b[39m=\u001b[39m\u001b[39mTrue\u001b[39;00m,\n\u001b[1;32m     79\u001b[0m         zen_partial\u001b[39m=\u001b[39m\u001b[39mTrue\u001b[39;00m,\n\u001b[1;32m     80\u001b[0m     )\n\u001b[1;32m     81\u001b[0m \u001b[39mexcept\u001b[39;00m \u001b[39mAttributeError\u001b[39;00m:\n\u001b[0;32m---> 82\u001b[0m     obj_cfg \u001b[39m=\u001b[39m hz\u001b[39m.\u001b[39;49mbuilds(\n\u001b[1;32m     83\u001b[0m         node\u001b[39m.\u001b[39;49mcontent\u001b[39m.\u001b[39;49m\u001b[39m__class__\u001b[39;49m, \u001b[39m*\u001b[39;49m\u001b[39m*\u001b[39;49mparams, populate_full_signature\u001b[39m=\u001b[39;49m\u001b[39mTrue\u001b[39;49;00m\n\u001b[1;32m     84\u001b[0m     )\n\u001b[1;32m     85\u001b[0m cfg \u001b[39m=\u001b[39m OmegaConf\u001b[39m.\u001b[39mstructured(obj_cfg)\n\u001b[1;32m     86\u001b[0m \u001b[39m# append  to node_sig\u001b[39;00m\n",
      "File \u001b[0;32m~/.cache/pypoetry/virtualenvs/scidag-ryUc_W-U-py3.11/lib/python3.11/site-packages/hydra_zen/structured_configs/_implementations.py:2136\u001b[0m, in \u001b[0;36mbuilds\u001b[0;34m(***failed resolving arguments***)\u001b[0m\n\u001b[1;32m   2133\u001b[0m value \u001b[39m=\u001b[39m item[\u001b[39m-\u001b[39m\u001b[39m1\u001b[39m]\n\u001b[1;32m   2135\u001b[0m \u001b[39mif\u001b[39;00m \u001b[39mnot\u001b[39;00m \u001b[39misinstance\u001b[39m(value, _Field):\n\u001b[0;32m-> 2136\u001b[0m     _field \u001b[39m=\u001b[39m sanitized_field(\n\u001b[1;32m   2137\u001b[0m         value,\n\u001b[1;32m   2138\u001b[0m         error_prefix\u001b[39m=\u001b[39;49mBUILDS_ERROR_PREFIX,\n\u001b[1;32m   2139\u001b[0m         field_name\u001b[39m=\u001b[39;49mitem[\u001b[39m0\u001b[39;49m],\n\u001b[1;32m   2140\u001b[0m         _mutable_default_permitted\u001b[39m=\u001b[39;49m_utils\u001b[39m.\u001b[39;49mmutable_default_permitted(\n\u001b[1;32m   2141\u001b[0m             builds_bases, name\n\u001b[1;32m   2142\u001b[0m         ),\n\u001b[1;32m   2143\u001b[0m         convert_dataclass\u001b[39m=\u001b[39;49mzen_convert_settings[\u001b[39m\"\u001b[39;49m\u001b[39mdataclass\u001b[39;49m\u001b[39m\"\u001b[39;49m],\n\u001b[1;32m   2144\u001b[0m     )\n\u001b[1;32m   2145\u001b[0m \u001b[39melif\u001b[39;00m (\n\u001b[1;32m   2146\u001b[0m     PATCH_OMEGACONF_830\n\u001b[1;32m   2147\u001b[0m     \u001b[39mand\u001b[39;00m builds_bases\n\u001b[0;32m   (...)\u001b[0m\n\u001b[1;32m   2153\u001b[0m     \u001b[39m# Value was passed as a field-with-default-factory, we'll\u001b[39;00m\n\u001b[1;32m   2154\u001b[0m     \u001b[39m# access the default from the factory and will reconstruct the field\u001b[39;00m\n\u001b[1;32m   2155\u001b[0m     _field \u001b[39m=\u001b[39m sanitized_field(\n\u001b[1;32m   2156\u001b[0m         value\u001b[39m.\u001b[39mdefault_factory(),\n\u001b[1;32m   2157\u001b[0m         error_prefix\u001b[39m=\u001b[39mBUILDS_ERROR_PREFIX,\n\u001b[0;32m   (...)\u001b[0m\n\u001b[1;32m   2162\u001b[0m         convert_dataclass\u001b[39m=\u001b[39mzen_convert_settings[\u001b[39m\"\u001b[39m\u001b[39mdataclass\u001b[39m\u001b[39m\"\u001b[39m],\n\u001b[1;32m   2163\u001b[0m     )\n",
      "File \u001b[0;32m~/.cache/pypoetry/virtualenvs/scidag-ryUc_W-U-py3.11/lib/python3.11/site-packages/hydra_zen/structured_configs/_implementations.py:791\u001b[0m, in \u001b[0;36msanitized_field\u001b[0;34m(value, init, allow_zen_conversion, error_prefix, field_name, _mutable_default_permitted, convert_dataclass)\u001b[0m\n\u001b[1;32m    780\u001b[0m \u001b[39mdef\u001b[39;00m \u001b[39msanitized_field\u001b[39m(\n\u001b[1;32m    781\u001b[0m     value: Any,\n\u001b[1;32m    782\u001b[0m     init: \u001b[39mbool\u001b[39m \u001b[39m=\u001b[39m \u001b[39mTrue\u001b[39;00m,\n\u001b[0;32m   (...)\u001b[0m\n\u001b[1;32m    788\u001b[0m     convert_dataclass: \u001b[39mbool\u001b[39m,\n\u001b[1;32m    789\u001b[0m ) \u001b[39m-\u001b[39m\u001b[39m>\u001b[39m Field[Any]:\n\u001b[0;32m--> 791\u001b[0m     value \u001b[39m=\u001b[39m sanitized_default_value(\n\u001b[1;32m    792\u001b[0m         value,\n\u001b[1;32m    793\u001b[0m         allow_zen_conversion\u001b[39m=\u001b[39;49mallow_zen_conversion,\n\u001b[1;32m    794\u001b[0m         error_prefix\u001b[39m=\u001b[39;49merror_prefix,\n\u001b[1;32m    795\u001b[0m         field_name\u001b[39m=\u001b[39;49mfield_name,\n\u001b[1;32m    796\u001b[0m         convert_dataclass\u001b[39m=\u001b[39;49mconvert_dataclass,\n\u001b[1;32m    797\u001b[0m     )\n\u001b[1;32m    799\u001b[0m     type_value \u001b[39m=\u001b[39m \u001b[39mtype\u001b[39m(value)\n\u001b[1;32m    800\u001b[0m     \u001b[39mif\u001b[39;00m (\n\u001b[1;32m    801\u001b[0m         type_value \u001b[39min\u001b[39;00m _utils\u001b[39m.\u001b[39mKNOWN_MUTABLE_TYPES\n\u001b[1;32m    802\u001b[0m         \u001b[39mand\u001b[39;00m type_value \u001b[39min\u001b[39;00m HYDRA_SUPPORTED_PRIMITIVES\n\u001b[1;32m    803\u001b[0m     ) \u001b[39mor\u001b[39;00m (\n\u001b[1;32m    804\u001b[0m         is_dataclass(value) \u001b[39mand\u001b[39;00m \u001b[39mnot\u001b[39;00m \u001b[39misinstance\u001b[39m(value, \u001b[39mtype\u001b[39m) \u001b[39mand\u001b[39;00m value\u001b[39m.\u001b[39m\u001b[39m__hash__\u001b[39m \u001b[39mis\u001b[39;00m \u001b[39mNone\u001b[39;00m\n\u001b[1;32m    805\u001b[0m     ):\n",
      "File \u001b[0;32m~/.cache/pypoetry/virtualenvs/scidag-ryUc_W-U-py3.11/lib/python3.11/site-packages/hydra_zen/structured_configs/_implementations.py:743\u001b[0m, in \u001b[0;36msanitized_default_value\u001b[0;34m(value, allow_zen_conversion, error_prefix, field_name, structured_conf_permitted, convert_dataclass, hydra_recursive, hydra_convert, zen_dataclass)\u001b[0m\n\u001b[1;32m    737\u001b[0m \u001b[39mif\u001b[39;00m structured_conf_permitted:\n\u001b[1;32m    738\u001b[0m     err_msg \u001b[39m+\u001b[39m\u001b[39m=\u001b[39m (\n\u001b[1;32m    739\u001b[0m         \u001b[39mf\u001b[39m\u001b[39m\"\u001b[39m\u001b[39m\\n\u001b[39;00m\u001b[39m\\n\u001b[39;00m\u001b[39mConsider using `hydra_zen.builds(\u001b[39m\u001b[39m{\u001b[39;00m\u001b[39mtype\u001b[39m(value)\u001b[39m}\u001b[39;00m\u001b[39m, ...)` create \u001b[39m\u001b[39m\"\u001b[39m\n\u001b[1;32m    740\u001b[0m         \u001b[39m\"\u001b[39m\u001b[39ma config for this particular value.\u001b[39m\u001b[39m\"\u001b[39m\n\u001b[1;32m    741\u001b[0m     )\n\u001b[0;32m--> 743\u001b[0m \u001b[39mraise\u001b[39;00m HydraZenUnsupportedPrimitiveError(err_msg)\n",
      "\u001b[0;31mHydraZenUnsupportedPrimitiveError\u001b[0m: Building: MyPow ..\n The configured value <__main__.Default object at 0x7f5051373750>, for field `default`, is not supported by Hydra -- serializing or instantiating this config would ultimately result in an error.\n\nConsider using `hydra_zen.builds(<class '__main__.Default'>, ...)` create a config for this particular value."
     ]
    }
   ],
   "source": [
    "# FIXME not working with instantiation\n",
    "cfg = dag.to_config()\n",
    "dag = DAG.from_config(cfg)\n",
    "dag.run(\"node_b\")"
   ]
  },
  {
   "cell_type": "code",
   "execution_count": null,
   "metadata": {},
   "outputs": [
    {
     "data": {
      "text/html": [
       "<div>\n",
       "<style scoped>\n",
       "    .dataframe tbody tr th:only-of-type {\n",
       "        vertical-align: middle;\n",
       "    }\n",
       "\n",
       "    .dataframe tbody tr th {\n",
       "        vertical-align: top;\n",
       "    }\n",
       "\n",
       "    .dataframe thead th {\n",
       "        text-align: right;\n",
       "    }\n",
       "</style>\n",
       "<table border=\"1\" class=\"dataframe\">\n",
       "  <thead>\n",
       "    <tr style=\"text-align: right;\">\n",
       "      <th></th>\n",
       "      <th>target</th>\n",
       "      <th>variable</th>\n",
       "      <th>source</th>\n",
       "      <th>value</th>\n",
       "    </tr>\n",
       "  </thead>\n",
       "  <tbody>\n",
       "    <tr>\n",
       "      <th>0</th>\n",
       "      <td>node_b</td>\n",
       "      <td>x</td>\n",
       "      <td>node_a</td>\n",
       "      <td>0.610939</td>\n",
       "    </tr>\n",
       "    <tr>\n",
       "      <th>1</th>\n",
       "      <td>node_c</td>\n",
       "      <td>x</td>\n",
       "      <td>node_a</td>\n",
       "      <td>0.610939</td>\n",
       "    </tr>\n",
       "    <tr>\n",
       "      <th>2</th>\n",
       "      <td>node_d</td>\n",
       "      <td>x</td>\n",
       "      <td>node_b</td>\n",
       "      <td>0.700318</td>\n",
       "    </tr>\n",
       "    <tr>\n",
       "      <th>3</th>\n",
       "      <td>node_d</td>\n",
       "      <td>y</td>\n",
       "      <td>node_c</td>\n",
       "      <td>0.373247</td>\n",
       "    </tr>\n",
       "  </tbody>\n",
       "</table>\n",
       "</div>"
      ],
      "text/plain": [
       "   target variable  source     value\n",
       "0  node_b        x  node_a  0.610939\n",
       "1  node_c        x  node_a  0.610939\n",
       "2  node_d        x  node_b  0.700318\n",
       "3  node_d        y  node_c  0.373247"
      ]
     },
     "execution_count": 62,
     "metadata": {},
     "output_type": "execute_result"
    }
   ],
   "source": [
    "dag.storage.show()"
   ]
  },
  {
   "cell_type": "code",
   "execution_count": null,
   "metadata": {},
   "outputs": [
    {
     "name": "stdout",
     "output_type": "stream",
     "text": [
      "info: {}\n",
      "dag:\n",
      "  node_a:\n",
      "    name: node_a\n",
      "    content:\n",
      "      _target_: random.random\n",
      "      _partial_: true\n",
      "    variables: null\n",
      "    edges:\n",
      "    - node_b.x\n",
      "    - node_c.x\n",
      "  node_b:\n",
      "    name: node_b\n",
      "    content:\n",
      "      _target_: __main__.tan\n",
      "      _partial_: true\n",
      "    variables:\n",
      "      x:\n",
      "        type: None\n",
      "        value: 0.6109392441504008\n",
      "    edges:\n",
      "    - node_d.x\n",
      "  node_c:\n",
      "    name: node_c\n",
      "    content:\n",
      "      _target_: __main__.MyPow\n",
      "      base: 2\n",
      "    variables:\n",
      "      x:\n",
      "        type: None\n",
      "        value: 0.6109392441504008\n",
      "    edges:\n",
      "    - node_d.y\n",
      "  node_d:\n",
      "    name: node_d\n",
      "    content:\n",
      "      _target_: __main__.my_sum\n",
      "      _partial_: true\n",
      "    variables:\n",
      "      x:\n",
      "        type: None\n",
      "        value: 0.7003178343003321\n",
      "      'y':\n",
      "        type: None\n",
      "        value: 0.373246760043063\n",
      "    edges: []\n",
      "\n"
     ]
    }
   ],
   "source": [
    "print(OmegaConf.to_yaml(dag.to_config()))"
   ]
  }
 ],
 "metadata": {
  "kernelspec": {
   "display_name": "scidag-ryUc_W-U-py3.11",
   "language": "python",
   "name": "python3"
  },
  "language_info": {
   "codemirror_mode": {
    "name": "ipython",
    "version": 3
   },
   "file_extension": ".py",
   "mimetype": "text/x-python",
   "name": "python",
   "nbconvert_exporter": "python",
   "pygments_lexer": "ipython3",
   "version": "3.11.1"
  },
  "orig_nbformat": 4,
  "vscode": {
   "interpreter": {
    "hash": "538423cf93e8590d1085d3d8bc96d2f8b210b6014a2f6052e961514a2337d641"
   }
  }
 },
 "nbformat": 4,
 "nbformat_minor": 2
}
